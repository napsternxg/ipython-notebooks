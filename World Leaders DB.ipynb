{
 "cells": [
  {
   "cell_type": "markdown",
   "metadata": {},
   "source": [
    "Source: https://www.worldpresidentsdb.com/list/countries/"
   ]
  },
  {
   "cell_type": "code",
   "execution_count": 1,
   "metadata": {},
   "outputs": [],
   "source": [
    "import scrapy\n",
    "import logging"
   ]
  },
  {
   "cell_type": "code",
   "execution_count": 2,
   "metadata": {},
   "outputs": [],
   "source": [
    "class WorldPresidents(scrapy.Spider):\n",
    "    name = 'worldpresidentsdb'\n",
    "    BASE_URL = \"https://www.worldpresidentsdb.com/\"\n",
    "    start_urls = [\n",
    "        BASE_URL + '/list/countries/',\n",
    "    ]\n",
    "    def parse(self, response):\n",
    "        for country in response.css(\".container div.list-group a\"):\n",
    "            country_url = country.css('::attr(\"href\")').get()\n",
    "            country_url = WorldPresidents.BASE_URL + country_url\n",
    "            yield response.follow(country_url, self.parse_country)\n",
    "                \n",
    "    def parse_country(self, response):\n",
    "        for president in response.css(\".container div.list-group a\"):\n",
    "            president_url = president.css('::attr(\"href\")').get()\n",
    "            president_url = WorldPresidents.BASE_URL + president_url\n",
    "            yield response.follow(president_url, self.parse_president)\n",
    "            \n",
    "    def parse_president(self, response):\n",
    "        info = {\n",
    "            \"url\": response.url\n",
    "        }\n",
    "        for p in response.css(\".container div.row div.col-md-8 p\"):\n",
    "            p_info = self.extract_info(p)\n",
    "            info.update(p_info)\n",
    "        yield info\n",
    "            \n",
    "    def extract_info(self, p):\n",
    "        info = {}\n",
    "        k = None\n",
    "        for text in p.css(\"::text\").extract():                \n",
    "            text = text.strip()\n",
    "            if not text: continue\n",
    "            if text.endswith(\":\"):\n",
    "                if k and len(info[k]) == 1 and k not in {\"Terms\"}:\n",
    "                    info[k] = v[0]\n",
    "                k = text[:-1]\n",
    "                info[k] = []\n",
    "            else:\n",
    "                v = text\n",
    "                if k == \"Terms\":\n",
    "                    if text.startswith(\") \"):\n",
    "                        t = text[2:]\n",
    "                        if t.lower().startswith(\"in office since \"):\n",
    "                            start = t.split(\" since \")[1]\n",
    "                            end = None\n",
    "                        else:\n",
    "                            start, end = t.split(\" to \")\n",
    "                        v = {\"start\": start, \"end\": end}\n",
    "                    else:\n",
    "                        continue\n",
    "                info[k].append(v)\n",
    "        if len(info[k]) == 1 and k not in  {\"Terms\"}:\n",
    "            info[k] = v[0]\n",
    "        return info"
   ]
  },
  {
   "cell_type": "code",
   "execution_count": 3,
   "metadata": {},
   "outputs": [],
   "source": [
    "from scrapy.crawler import CrawlerProcess\n",
    "from scrapy.exporters import JsonLinesItemExporter"
   ]
  },
  {
   "cell_type": "code",
   "execution_count": 4,
   "metadata": {},
   "outputs": [
    {
     "name": "stderr",
     "output_type": "stream",
     "text": [
      "2021-01-04 18:18:56 [scrapy.utils.log] INFO: Scrapy 2.4.1 started (bot: scrapybot)\n",
      "2021-01-04 18:18:56 [scrapy.utils.log] INFO: Versions: lxml 4.6.2.0, libxml2 2.9.10, cssselect 1.1.0, parsel 1.5.2, w3lib 1.21.0, Twisted 20.3.0, Python 3.7.3 (default, Mar 27 2019, 16:54:48) - [Clang 4.0.1 (tags/RELEASE_401/final)], pyOpenSSL 19.1.0 (OpenSSL 1.1.1i  8 Dec 2020), cryptography 2.8, Platform Darwin-19.6.0-x86_64-i386-64bit\n",
      "2021-01-04 18:18:56 [scrapy.crawler] INFO: Overridden settings:\n",
      "{'LOG_LEVEL': 'INFO',\n",
      " 'USER_AGENT': 'Mozilla/4.0 (compatible; MSIE 7.0; Windows NT 5.1)'}\n",
      "2021-01-04 18:18:56 [scrapy.extensions.telnet] INFO: Telnet Password: da4496763a7930d3\n",
      "2021-01-04 18:18:56 [scrapy.middleware] INFO: Enabled extensions:\n",
      "['scrapy.extensions.corestats.CoreStats',\n",
      " 'scrapy.extensions.telnet.TelnetConsole',\n",
      " 'scrapy.extensions.memusage.MemoryUsage',\n",
      " 'scrapy.extensions.feedexport.FeedExporter',\n",
      " 'scrapy.extensions.logstats.LogStats']\n",
      "2021-01-04 18:18:56 [scrapy.middleware] INFO: Enabled downloader middlewares:\n",
      "['scrapy.downloadermiddlewares.httpauth.HttpAuthMiddleware',\n",
      " 'scrapy.downloadermiddlewares.downloadtimeout.DownloadTimeoutMiddleware',\n",
      " 'scrapy.downloadermiddlewares.defaultheaders.DefaultHeadersMiddleware',\n",
      " 'scrapy.downloadermiddlewares.useragent.UserAgentMiddleware',\n",
      " 'scrapy.downloadermiddlewares.retry.RetryMiddleware',\n",
      " 'scrapy.downloadermiddlewares.redirect.MetaRefreshMiddleware',\n",
      " 'scrapy.downloadermiddlewares.httpcompression.HttpCompressionMiddleware',\n",
      " 'scrapy.downloadermiddlewares.redirect.RedirectMiddleware',\n",
      " 'scrapy.downloadermiddlewares.cookies.CookiesMiddleware',\n",
      " 'scrapy.downloadermiddlewares.httpproxy.HttpProxyMiddleware',\n",
      " 'scrapy.downloadermiddlewares.stats.DownloaderStats']\n",
      "2021-01-04 18:18:56 [scrapy.middleware] INFO: Enabled spider middlewares:\n",
      "['scrapy.spidermiddlewares.httperror.HttpErrorMiddleware',\n",
      " 'scrapy.spidermiddlewares.offsite.OffsiteMiddleware',\n",
      " 'scrapy.spidermiddlewares.referer.RefererMiddleware',\n",
      " 'scrapy.spidermiddlewares.urllength.UrlLengthMiddleware',\n",
      " 'scrapy.spidermiddlewares.depth.DepthMiddleware']\n",
      "2021-01-04 18:18:56 [scrapy.middleware] INFO: Enabled item pipelines:\n",
      "[]\n",
      "2021-01-04 18:18:56 [scrapy.core.engine] INFO: Spider opened\n",
      "2021-01-04 18:18:56 [scrapy.extensions.logstats] INFO: Crawled 0 pages (at 0 pages/min), scraped 0 items (at 0 items/min)\n",
      "2021-01-04 18:18:56 [scrapy.extensions.telnet] INFO: Telnet console listening on 127.0.0.1:6023\n"
     ]
    },
    {
     "data": {
      "text/plain": [
       "<Deferred at 0x7fd938c68e10>"
      ]
     },
     "execution_count": 4,
     "metadata": {},
     "output_type": "execute_result"
    }
   ],
   "source": [
    "process = CrawlerProcess({\n",
    "    'USER_AGENT': 'Mozilla/4.0 (compatible; MSIE 7.0; Windows NT 5.1)',\n",
    "    \"FEEDS\": {\n",
    "        \"worldpresidentsdb.json\": {\n",
    "            \"format\": \"jsonlines\",\n",
    "            'encoding': 'utf8',\n",
    "            'overwrite': True\n",
    "        },\n",
    "    },\n",
    "    \"LOG_LEVEL\": \"INFO\"\n",
    "})\n",
    "\n",
    "process.crawl(WorldPresidents)"
   ]
  },
  {
   "cell_type": "code",
   "execution_count": 5,
   "metadata": {},
   "outputs": [
    {
     "name": "stderr",
     "output_type": "stream",
     "text": [
      "2021-01-04 18:19:03 [scrapy.core.engine] INFO: Closing spider (finished)\n",
      "2021-01-04 18:19:04 [scrapy.extensions.feedexport] INFO: Stored jsonlines feed (544 items) in: worldpresidentsdb.json\n",
      "2021-01-04 18:19:04 [scrapy.statscollectors] INFO: Dumping Scrapy stats:\n",
      "{'downloader/request_bytes': 241323,\n",
      " 'downloader/request_count': 618,\n",
      " 'downloader/request_method_count/GET': 618,\n",
      " 'downloader/response_bytes': 1933204,\n",
      " 'downloader/response_count': 618,\n",
      " 'downloader/response_status_count/200': 618,\n",
      " 'dupefilter/filtered': 36,\n",
      " 'elapsed_time_seconds': 7.151829,\n",
      " 'finish_reason': 'finished',\n",
      " 'finish_time': datetime.datetime(2021, 1, 4, 23, 19, 4, 838),\n",
      " 'item_scraped_count': 544,\n",
      " 'log_count/INFO': 11,\n",
      " 'memusage/max': 69541888,\n",
      " 'memusage/startup': 69541888,\n",
      " 'request_depth_max': 2,\n",
      " 'response_received_count': 618,\n",
      " 'scheduler/dequeued': 618,\n",
      " 'scheduler/dequeued/memory': 618,\n",
      " 'scheduler/enqueued': 618,\n",
      " 'scheduler/enqueued/memory': 618,\n",
      " 'start_time': datetime.datetime(2021, 1, 4, 23, 18, 56, 849009)}\n",
      "2021-01-04 18:19:04 [scrapy.core.engine] INFO: Spider closed (finished)\n"
     ]
    },
    {
     "name": "stdout",
     "output_type": "stream",
     "text": [
      "CPU times: user 6.24 s, sys: 65.4 ms, total: 6.3 s\n",
      "Wall time: 7.16 s\n"
     ]
    }
   ],
   "source": [
    "%%time\n",
    "process.start()"
   ]
  },
  {
   "cell_type": "code",
   "execution_count": null,
   "metadata": {},
   "outputs": [],
   "source": []
  }
 ],
 "metadata": {
  "kernelspec": {
   "display_name": "Python 3",
   "language": "python",
   "name": "python3"
  },
  "language_info": {
   "codemirror_mode": {
    "name": "ipython",
    "version": 3
   },
   "file_extension": ".py",
   "mimetype": "text/x-python",
   "name": "python",
   "nbconvert_exporter": "python",
   "pygments_lexer": "ipython3",
   "version": "3.7.3"
  }
 },
 "nbformat": 4,
 "nbformat_minor": 4
}
