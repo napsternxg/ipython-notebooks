{
  "nbformat": 4,
  "nbformat_minor": 0,
  "metadata": {
    "colab": {
      "name": "LazyValues.ipynb",
      "provenance": [],
      "authorship_tag": "ABX9TyMlA+yFrEudIIn1Vg8z+ehW",
      "include_colab_link": true
    },
    "kernelspec": {
      "name": "python3",
      "display_name": "Python 3"
    },
    "language_info": {
      "name": "python"
    }
  },
  "cells": [
    {
      "cell_type": "markdown",
      "metadata": {
        "id": "view-in-github",
        "colab_type": "text"
      },
      "source": [
        "<a href=\"https://colab.research.google.com/github/napsternxg/ipython-notebooks/blob/master/LazyValues.ipynb\" target=\"_parent\"><img src=\"https://colab.research.google.com/assets/colab-badge.svg\" alt=\"Open In Colab\"/></a>"
      ]
    },
    {
      "cell_type": "markdown",
      "source": [
        "# Lazy Loading Variables in Python\n",
        "\n",
        "How to get variables which are lazy loaded when first used"
      ],
      "metadata": {
        "id": "gWt4otPFwHwA"
      }
    },
    {
      "cell_type": "code",
      "execution_count": 1,
      "metadata": {
        "id": "X0W2LDCFvWIr"
      },
      "outputs": [],
      "source": [
        "import time"
      ]
    },
    {
      "cell_type": "code",
      "source": [
        "class LazyValues(object):\n",
        "  def __init__(self, **value_fn_dict):\n",
        "    self.value_fn_dict = value_fn_dict\n",
        "  \n",
        "  def __getattr__(self, name):\n",
        "    if name not in self.value_fn_dict:\n",
        "      raise AttributeError(f\"{name} not in {self.value_fn_dict.keys()}\")\n",
        "    try:\n",
        "      self.__getattribute__(name)\n",
        "    except AttributeError:\n",
        "      print(f\"Lazy loading value: {name}.\")\n",
        "      value = self.value_fn_dict[name]()\n",
        "      setattr(self, name, value)\n",
        "    return self.__getattribute__(name)"
      ],
      "metadata": {
        "id": "Q4-yVWVNvZ5r"
      },
      "execution_count": 2,
      "outputs": []
    },
    {
      "cell_type": "code",
      "source": [
        "def slow_function(v, sleep_time=2):\n",
        "  print(f\"In slow_function: Sleeping for: {sleep_time} secs before returning {v}.\")\n",
        "  time.sleep(sleep_time)\n",
        "  return v"
      ],
      "metadata": {
        "id": "kAdB_V40vbT0"
      },
      "execution_count": 3,
      "outputs": []
    },
    {
      "cell_type": "code",
      "source": [
        "lazy_values = LazyValues(\n",
        "  some_slow_value = lambda: slow_function(5, sleep_time=2),\n",
        "  extremely_slow_value = lambda: slow_function(10, sleep_time=10)\n",
        ")"
      ],
      "metadata": {
        "id": "cLgpt7nKvdWi"
      },
      "execution_count": 4,
      "outputs": []
    },
    {
      "cell_type": "code",
      "source": [
        "for i in range(10):\n",
        "  print(f\"lazy_values.some_slow_value={lazy_values.some_slow_value}\")\n",
        "  print(f\"lazy_values.extremely_slow_value={lazy_values.extremely_slow_value}\")"
      ],
      "metadata": {
        "colab": {
          "base_uri": "https://localhost:8080/"
        },
        "id": "Q_n10qn7vffp",
        "outputId": "3a372426-e006-4b4a-a7ee-5d9abfaebf23"
      },
      "execution_count": 5,
      "outputs": [
        {
          "output_type": "stream",
          "name": "stdout",
          "text": [
            "Lazy loading value: some_slow_value.\n",
            "In slow_function: Sleeping for: 2 secs before returning 5.\n",
            "lazy_values.some_slow_value=5\n",
            "Lazy loading value: extremely_slow_value.\n",
            "In slow_function: Sleeping for: 10 secs before returning 10.\n",
            "lazy_values.extremely_slow_value=10\n",
            "lazy_values.some_slow_value=5\n",
            "lazy_values.extremely_slow_value=10\n",
            "lazy_values.some_slow_value=5\n",
            "lazy_values.extremely_slow_value=10\n",
            "lazy_values.some_slow_value=5\n",
            "lazy_values.extremely_slow_value=10\n",
            "lazy_values.some_slow_value=5\n",
            "lazy_values.extremely_slow_value=10\n",
            "lazy_values.some_slow_value=5\n",
            "lazy_values.extremely_slow_value=10\n",
            "lazy_values.some_slow_value=5\n",
            "lazy_values.extremely_slow_value=10\n",
            "lazy_values.some_slow_value=5\n",
            "lazy_values.extremely_slow_value=10\n",
            "lazy_values.some_slow_value=5\n",
            "lazy_values.extremely_slow_value=10\n",
            "lazy_values.some_slow_value=5\n",
            "lazy_values.extremely_slow_value=10\n"
          ]
        }
      ]
    },
    {
      "cell_type": "code",
      "source": [
        ""
      ],
      "metadata": {
        "id": "0ygvGVp9vtNR"
      },
      "execution_count": 5,
      "outputs": []
    },
    {
      "cell_type": "code",
      "source": [
        ""
      ],
      "metadata": {
        "id": "IFT4OU4Tv6Sl"
      },
      "execution_count": 5,
      "outputs": []
    },
    {
      "cell_type": "code",
      "source": [
        ""
      ],
      "metadata": {
        "id": "rVf4LA9Xv605"
      },
      "execution_count": 5,
      "outputs": []
    },
    {
      "cell_type": "code",
      "source": [
        ""
      ],
      "metadata": {
        "id": "gJMf9e81wBZn"
      },
      "execution_count": null,
      "outputs": []
    },
    {
      "cell_type": "code",
      "source": [
        ""
      ],
      "metadata": {
        "id": "2RGOI9IxwBXI"
      },
      "execution_count": null,
      "outputs": []
    },
    {
      "cell_type": "code",
      "source": [
        ""
      ],
      "metadata": {
        "id": "cirMdxbxwBUT"
      },
      "execution_count": null,
      "outputs": []
    },
    {
      "cell_type": "code",
      "source": [
        ""
      ],
      "metadata": {
        "id": "zGS6H2jowBSE"
      },
      "execution_count": null,
      "outputs": []
    },
    {
      "cell_type": "code",
      "source": [
        ""
      ],
      "metadata": {
        "id": "Tn7wl47ywBPO"
      },
      "execution_count": null,
      "outputs": []
    },
    {
      "cell_type": "code",
      "source": [
        ""
      ],
      "metadata": {
        "id": "4rux0vdOwBMw"
      },
      "execution_count": null,
      "outputs": []
    },
    {
      "cell_type": "code",
      "source": [
        ""
      ],
      "metadata": {
        "id": "qXToL9bVwBKU"
      },
      "execution_count": null,
      "outputs": []
    },
    {
      "cell_type": "code",
      "source": [
        ""
      ],
      "metadata": {
        "id": "Qz5uupfdwBHg"
      },
      "execution_count": null,
      "outputs": []
    },
    {
      "cell_type": "code",
      "source": [
        ""
      ],
      "metadata": {
        "id": "2i13liCTwA_9"
      },
      "execution_count": null,
      "outputs": []
    },
    {
      "cell_type": "code",
      "source": [
        ""
      ],
      "metadata": {
        "id": "HeU2nJKFwA9e"
      },
      "execution_count": null,
      "outputs": []
    },
    {
      "cell_type": "code",
      "source": [
        ""
      ],
      "metadata": {
        "id": "oniBfjo5wA7C"
      },
      "execution_count": null,
      "outputs": []
    },
    {
      "cell_type": "code",
      "source": [
        ""
      ],
      "metadata": {
        "id": "d2giXlADwA4N"
      },
      "execution_count": null,
      "outputs": []
    },
    {
      "cell_type": "code",
      "source": [
        ""
      ],
      "metadata": {
        "id": "kSZL5thLwA1u"
      },
      "execution_count": null,
      "outputs": []
    },
    {
      "cell_type": "code",
      "source": [
        ""
      ],
      "metadata": {
        "id": "0vRPWAG5wAzH"
      },
      "execution_count": null,
      "outputs": []
    },
    {
      "cell_type": "code",
      "source": [
        ""
      ],
      "metadata": {
        "id": "yB9Q6aQMwAwH"
      },
      "execution_count": null,
      "outputs": []
    },
    {
      "cell_type": "code",
      "source": [
        ""
      ],
      "metadata": {
        "id": "7NuELLmvwApz"
      },
      "execution_count": null,
      "outputs": []
    },
    {
      "cell_type": "code",
      "source": [
        ""
      ],
      "metadata": {
        "id": "Q51AntvswAdH"
      },
      "execution_count": null,
      "outputs": []
    },
    {
      "cell_type": "code",
      "source": [
        ""
      ],
      "metadata": {
        "id": "RScVCMtCwAG_"
      },
      "execution_count": null,
      "outputs": []
    }
  ]
}