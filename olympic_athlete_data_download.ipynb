{
 "cells": [
  {
   "cell_type": "markdown",
   "metadata": {},
   "source": [
    "# Download Olympic Athlete Data from official website\n",
    "\n",
    "* Get athete page name sitemaps from: https://olympics.com/en/xml-sitemap/\n",
    "```xml\n",
    "<sitemap>\n",
    "<loc>https://olympics.com/en/xml-sitemap/custom/athlete/1/50000</loc>\n",
    "</sitemap>\n",
    "<sitemap>\n",
    "<loc>https://olympics.com/en/xml-sitemap/custom/athlete/2/50000</loc>\n",
    "</sitemap>\n",
    "<sitemap>\n",
    "<loc>https://olympics.com/en/xml-sitemap/custom/athlete/3/50000</loc>\n",
    "</sitemap>\n",
    "<sitemap>\n",
    "<loc>https://olympics.com/en/xml-sitemap/custom/athlete/4/50000</loc>\n",
    "</sitemap>\n",
    "```\n",
    "* Get individual athlete pages from each site map: https://olympics.com/en/xml-sitemap/custom/athlete/1/50000\n",
    "```xml\n",
    "<url>\n",
    "<loc>https://olympics.com/en/athletes/grant-holloway</loc>\n",
    "<lastmod>2024-03-05T23:02:24.551Z</lastmod>\n",
    "</url>\n",
    "```\n",
    "* For each page get the data from the server script tag at the end of source: https://olympics.com/en/athletes/antoine-dupont\n",
    "```html\n",
    "<template data-dgst=\"DYNAMIC_SERVER_USAGE\"></template>\n",
    "<!--/$--><!--/$--></div><script id=\"__NEXT_DATA__\" type=\"application/json\">\n",
    "```\n",
    "* This data contains the following JSON:\n",
    "\n",
    "![JSON data](./images/olympic_athlete.PNG)\n",
    "* Save this data and extract relevant fields into CSV for analysis"
   ]
  }
 ],
 "metadata": {
  "language_info": {
   "name": "python"
  }
 },
 "nbformat": 4,
 "nbformat_minor": 2
}
