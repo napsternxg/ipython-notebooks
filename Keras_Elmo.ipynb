{
  "nbformat": 4,
  "nbformat_minor": 0,
  "metadata": {
    "colab": {
      "name": "Keras-Elmo.ipynb",
      "provenance": [],
      "collapsed_sections": [],
      "include_colab_link": true
    },
    "kernelspec": {
      "name": "python3",
      "display_name": "Python 3"
    },
    "accelerator": "GPU"
  },
  "cells": [
    {
      "cell_type": "markdown",
      "metadata": {
        "id": "view-in-github",
        "colab_type": "text"
      },
      "source": [
        "<a href=\"https://colab.research.google.com/github/napsternxg/ipython-notebooks/blob/master/Keras_Elmo.ipynb\" target=\"_parent\"><img src=\"https://colab.research.google.com/assets/colab-badge.svg\" alt=\"Open In Colab\"/></a>"
      ]
    },
    {
      "cell_type": "code",
      "metadata": {
        "id": "wfWTbo1Sctng",
        "colab_type": "code",
        "colab": {}
      },
      "source": [
        "! pip install nltk"
      ],
      "execution_count": 0,
      "outputs": []
    },
    {
      "cell_type": "code",
      "metadata": {
        "id": "MbREWBiU8VFw",
        "colab_type": "code",
        "outputId": "75dad872-eb94-49c6-85c4-2eb79d855ce3",
        "colab": {
          "base_uri": "https://localhost:8080/",
          "height": 51
        }
      },
      "source": [
        "import tensorflow as tf\n",
        "import tensorflow_hub as hub\n",
        "import tensorflow.keras.backend as K\n",
        "import numpy as np"
      ],
      "execution_count": 0,
      "outputs": [
        {
          "output_type": "stream",
          "text": [
            "WARNING: Logging before flag parsing goes to stderr.\n",
            "W0325 21:47:56.237649 139708550211456 __init__.py:56] Some hub symbols are not available because TensorFlow version is less than 1.14\n"
          ],
          "name": "stderr"
        }
      ]
    },
    {
      "cell_type": "code",
      "metadata": {
        "id": "P97jiyM49FUz",
        "colab_type": "code",
        "outputId": "f0e57295-42bf-4473-fac8-a924df13ee32",
        "colab": {
          "base_uri": "https://localhost:8080/",
          "height": 34
        }
      },
      "source": [
        "tf.__version__, np.__version__"
      ],
      "execution_count": 0,
      "outputs": [
        {
          "output_type": "execute_result",
          "data": {
            "text/plain": [
              "('1.13.1', '1.14.6')"
            ]
          },
          "metadata": {
            "tags": []
          },
          "execution_count": 2
        }
      ]
    },
    {
      "cell_type": "code",
      "metadata": {
        "id": "wRW3a8Sk8mgb",
        "colab_type": "code",
        "colab": {}
      },
      "source": [
        "class ElmoEmbeddingLayer(tf.keras.layers.Layer):\n",
        "    \"\"\"Taken from: \n",
        "    https://github.com/strongio/keras-elmo/blob/master/Elmo%20Keras.ipynb\"\"\"\n",
        "    def __init__(self, **kwargs):\n",
        "        self.dimensions = 1024\n",
        "        super(ElmoEmbeddingLayer, self).__init__(**kwargs)\n",
        "\n",
        "    def build(self, input_shape):\n",
        "        self.elmo = hub.Module(\n",
        "            'https://tfhub.dev/google/elmo/2', \n",
        "            trainable=self.trainable,\n",
        "            name=\"{}_module\".format(self.name)\n",
        "        )\n",
        "        if self.trainable:\n",
        "          self._trainable_weights.extend(\n",
        "              tf.trainable_variables(scope=\"^{}_module/.*\".format(self.name))\n",
        "          )\n",
        "        # Changed assuming trainable weights might be set using \n",
        "        super(ElmoEmbeddingLayer, self).build(input_shape)\n",
        "\n",
        "    def call(self, x, mask=None):\n",
        "        result = self.elmo(\n",
        "            K.squeeze(K.cast(x, tf.string), axis=1),\n",
        "            as_dict=True,\n",
        "            signature='default',\n",
        "        )['default']\n",
        "        return result\n",
        "\n",
        "    def compute_mask(self, inputs, mask=None):\n",
        "        return K.not_equal(inputs, '--PAD--')\n",
        "\n",
        "    def compute_output_shape(self, input_shape):\n",
        "        return (input_shape[0], self.dimensions)\n",
        "\n",
        "def create_model(train_elmo=False):\n",
        "  # Create Sequential model\n",
        "  model = tf.keras.Sequential([\n",
        "      # Need to explicitly include input layer \n",
        "      # to allow keras to accept string input\n",
        "      # Taken from:\n",
        "      # https://gist.github.com/colinmorris/9183206284b4fe3179809098e809d009\n",
        "      tf.keras.layers.InputLayer(dtype='string', input_shape=(1,)),\n",
        "      ElmoEmbeddingLayer(trainable=train_elmo),\n",
        "      tf.keras.layers.Dense(1)\n",
        "  ])\n",
        "  \n",
        "  # Needed to initialize elmo variables\n",
        "  sess = K.get_session()\n",
        "  init = tf.global_variables_initializer()\n",
        "  sess.run(init)\n",
        "  \n",
        "  # Compile model\n",
        "  model.compile(\n",
        "      optimizer=\"adam\", \n",
        "      loss=\"binary_crossentropy\", \n",
        "      metrics=[\"accuracy\"]\n",
        "  )\n",
        "  return model\n",
        "\n",
        "\n"
      ],
      "execution_count": 0,
      "outputs": []
    },
    {
      "cell_type": "code",
      "metadata": {
        "id": "37IaKUOP-Qdn",
        "colab_type": "code",
        "outputId": "22365931-13a8-411d-ddf1-513aeb7bc5d3",
        "colab": {
          "base_uri": "https://localhost:8080/",
          "height": 175
        }
      },
      "source": [
        "model = create_model(train_elmo=True)"
      ],
      "execution_count": 0,
      "outputs": [
        {
          "output_type": "stream",
          "text": [
            "WARNING:tensorflow:From /usr/local/lib/python3.6/dist-packages/tensorflow/python/ops/control_flow_ops.py:3632: colocate_with (from tensorflow.python.framework.ops) is deprecated and will be removed in a future version.\n",
            "Instructions for updating:\n",
            "Colocations handled automatically by placer.\n"
          ],
          "name": "stdout"
        },
        {
          "output_type": "stream",
          "text": [
            "W0325 21:47:56.784782 139708550211456 deprecation.py:323] From /usr/local/lib/python3.6/dist-packages/tensorflow/python/ops/control_flow_ops.py:3632: colocate_with (from tensorflow.python.framework.ops) is deprecated and will be removed in a future version.\n",
            "Instructions for updating:\n",
            "Colocations handled automatically by placer.\n"
          ],
          "name": "stderr"
        },
        {
          "output_type": "stream",
          "text": [
            "INFO:tensorflow:Saver not created because there are no variables in the graph to restore\n"
          ],
          "name": "stdout"
        },
        {
          "output_type": "stream",
          "text": [
            "I0325 21:47:57.561886 139708550211456 saver.py:1483] Saver not created because there are no variables in the graph to restore\n"
          ],
          "name": "stderr"
        }
      ]
    },
    {
      "cell_type": "code",
      "metadata": {
        "id": "85pZjJ5e-Tx7",
        "colab_type": "code",
        "outputId": "d74a6472-29e5-42d8-eeac-1a7e84d4f52d",
        "colab": {
          "base_uri": "https://localhost:8080/",
          "height": 34
        }
      },
      "source": [
        "X = np.array([\n",
        "    \"This is good\",\n",
        "    \"This is bad\"\n",
        "]).reshape(2, 1)\n",
        "y = np.array([0, 1]).reshape(2, 1)\n",
        "X.shape, y.shape"
      ],
      "execution_count": 0,
      "outputs": [
        {
          "output_type": "execute_result",
          "data": {
            "text/plain": [
              "((2, 1), (2, 1))"
            ]
          },
          "metadata": {
            "tags": []
          },
          "execution_count": 5
        }
      ]
    },
    {
      "cell_type": "code",
      "metadata": {
        "id": "OsX2rPRE-edB",
        "colab_type": "code",
        "outputId": "e013e6d0-2288-4947-cab7-5969242d4534",
        "colab": {
          "base_uri": "https://localhost:8080/",
          "height": 175
        }
      },
      "source": [
        "model.fit(X, y)"
      ],
      "execution_count": 0,
      "outputs": [
        {
          "output_type": "stream",
          "text": [
            "WARNING:tensorflow:From /usr/local/lib/python3.6/dist-packages/tensorflow/python/ops/math_ops.py:3066: to_int32 (from tensorflow.python.ops.math_ops) is deprecated and will be removed in a future version.\n",
            "Instructions for updating:\n",
            "Use tf.cast instead.\n"
          ],
          "name": "stdout"
        },
        {
          "output_type": "stream",
          "text": [
            "W0325 21:47:59.085000 139708550211456 deprecation.py:323] From /usr/local/lib/python3.6/dist-packages/tensorflow/python/ops/math_ops.py:3066: to_int32 (from tensorflow.python.ops.math_ops) is deprecated and will be removed in a future version.\n",
            "Instructions for updating:\n",
            "Use tf.cast instead.\n"
          ],
          "name": "stderr"
        },
        {
          "output_type": "stream",
          "text": [
            "\r2/2 [==============================] - 2s 790ms/sample - loss: 8.0590 - acc: 0.5000\n"
          ],
          "name": "stdout"
        },
        {
          "output_type": "execute_result",
          "data": {
            "text/plain": [
              "<tensorflow.python.keras.callbacks.History at 0x7f0ff58115c0>"
            ]
          },
          "metadata": {
            "tags": []
          },
          "execution_count": 6
        }
      ]
    },
    {
      "cell_type": "code",
      "metadata": {
        "id": "vXO0YWtY-nrP",
        "colab_type": "code",
        "outputId": "28c24dc2-c5cf-4a21-c633-d710c6dc6706",
        "colab": {
          "base_uri": "https://localhost:8080/",
          "height": 207
        }
      },
      "source": [
        "model.summary()"
      ],
      "execution_count": 0,
      "outputs": [
        {
          "output_type": "stream",
          "text": [
            "_________________________________________________________________\n",
            "Layer (type)                 Output Shape              Param #   \n",
            "=================================================================\n",
            "elmo_embedding_layer (ElmoEm (None, 1024)              4         \n",
            "_________________________________________________________________\n",
            "dense (Dense)                (None, 1)                 1025      \n",
            "=================================================================\n",
            "Total params: 1,029\n",
            "Trainable params: 1,029\n",
            "Non-trainable params: 0\n",
            "_________________________________________________________________\n"
          ],
          "name": "stdout"
        }
      ]
    },
    {
      "cell_type": "code",
      "metadata": {
        "id": "B44AaTUhv_w7",
        "colab_type": "code",
        "outputId": "bc282e75-9533-4162-e3e9-bbd5c75a6ffd",
        "colab": {
          "base_uri": "https://localhost:8080/",
          "height": 86
        }
      },
      "source": [
        "model.trainable_weights"
      ],
      "execution_count": 0,
      "outputs": [
        {
          "output_type": "execute_result",
          "data": {
            "text/plain": [
              "[<tf.Variable 'elmo_embedding_layer_module/aggregation/weights:0' shape=(3,) dtype=float32>,\n",
              " <tf.Variable 'elmo_embedding_layer_module/aggregation/scaling:0' shape=() dtype=float32>,\n",
              " <tf.Variable 'dense/kernel:0' shape=(1024, 1) dtype=float32>,\n",
              " <tf.Variable 'dense/bias:0' shape=(1,) dtype=float32>]"
            ]
          },
          "metadata": {
            "tags": []
          },
          "execution_count": 8
        }
      ]
    },
    {
      "cell_type": "code",
      "metadata": {
        "id": "Gr_AJYCZwZlg",
        "colab_type": "code",
        "colab": {}
      },
      "source": [
        "elmo = model.layers[0].elmo"
      ],
      "execution_count": 0,
      "outputs": []
    },
    {
      "cell_type": "code",
      "metadata": {
        "id": "62QVQ2fjxAQf",
        "colab_type": "code",
        "outputId": "e3a3b0fd-2518-4aa2-bfea-eed54ea50dad",
        "colab": {
          "base_uri": "https://localhost:8080/",
          "height": 693
        }
      },
      "source": [
        "elmo.variables"
      ],
      "execution_count": 0,
      "outputs": [
        {
          "output_type": "execute_result",
          "data": {
            "text/plain": [
              "[<tf.Variable 'elmo_embedding_layer_module/aggregation/scaling:0' shape=() dtype=float32>,\n",
              " <tf.Variable 'elmo_embedding_layer_module/aggregation/weights:0' shape=(3,) dtype=float32>,\n",
              " <tf.Variable 'elmo_embedding_layer_module/bilm/CNN/W_cnn_0:0' shape=(1, 1, 16, 32) dtype=float32>,\n",
              " <tf.Variable 'elmo_embedding_layer_module/bilm/CNN/W_cnn_1:0' shape=(1, 2, 16, 32) dtype=float32>,\n",
              " <tf.Variable 'elmo_embedding_layer_module/bilm/CNN/W_cnn_2:0' shape=(1, 3, 16, 64) dtype=float32>,\n",
              " <tf.Variable 'elmo_embedding_layer_module/bilm/CNN/W_cnn_3:0' shape=(1, 4, 16, 128) dtype=float32>,\n",
              " <tf.Variable 'elmo_embedding_layer_module/bilm/CNN/W_cnn_4:0' shape=(1, 5, 16, 256) dtype=float32>,\n",
              " <tf.Variable 'elmo_embedding_layer_module/bilm/CNN/W_cnn_5:0' shape=(1, 6, 16, 512) dtype=float32>,\n",
              " <tf.Variable 'elmo_embedding_layer_module/bilm/CNN/W_cnn_6:0' shape=(1, 7, 16, 1024) dtype=float32>,\n",
              " <tf.Variable 'elmo_embedding_layer_module/bilm/CNN/b_cnn_0:0' shape=(32,) dtype=float32>,\n",
              " <tf.Variable 'elmo_embedding_layer_module/bilm/CNN/b_cnn_1:0' shape=(32,) dtype=float32>,\n",
              " <tf.Variable 'elmo_embedding_layer_module/bilm/CNN/b_cnn_2:0' shape=(64,) dtype=float32>,\n",
              " <tf.Variable 'elmo_embedding_layer_module/bilm/CNN/b_cnn_3:0' shape=(128,) dtype=float32>,\n",
              " <tf.Variable 'elmo_embedding_layer_module/bilm/CNN/b_cnn_4:0' shape=(256,) dtype=float32>,\n",
              " <tf.Variable 'elmo_embedding_layer_module/bilm/CNN/b_cnn_5:0' shape=(512,) dtype=float32>,\n",
              " <tf.Variable 'elmo_embedding_layer_module/bilm/CNN/b_cnn_6:0' shape=(1024,) dtype=float32>,\n",
              " <tf.Variable 'elmo_embedding_layer_module/bilm/CNN_high_0/W_carry:0' shape=(2048, 2048) dtype=float32>,\n",
              " <tf.Variable 'elmo_embedding_layer_module/bilm/CNN_high_0/W_transform:0' shape=(2048, 2048) dtype=float32>,\n",
              " <tf.Variable 'elmo_embedding_layer_module/bilm/CNN_high_0/b_carry:0' shape=(2048,) dtype=float32>,\n",
              " <tf.Variable 'elmo_embedding_layer_module/bilm/CNN_high_0/b_transform:0' shape=(2048,) dtype=float32>,\n",
              " <tf.Variable 'elmo_embedding_layer_module/bilm/CNN_high_1/W_carry:0' shape=(2048, 2048) dtype=float32>,\n",
              " <tf.Variable 'elmo_embedding_layer_module/bilm/CNN_high_1/W_transform:0' shape=(2048, 2048) dtype=float32>,\n",
              " <tf.Variable 'elmo_embedding_layer_module/bilm/CNN_high_1/b_carry:0' shape=(2048,) dtype=float32>,\n",
              " <tf.Variable 'elmo_embedding_layer_module/bilm/CNN_high_1/b_transform:0' shape=(2048,) dtype=float32>,\n",
              " <tf.Variable 'elmo_embedding_layer_module/bilm/CNN_proj/W_proj:0' shape=(2048, 512) dtype=float32>,\n",
              " <tf.Variable 'elmo_embedding_layer_module/bilm/CNN_proj/b_proj:0' shape=(512,) dtype=float32>,\n",
              " <tf.Variable 'elmo_embedding_layer_module/bilm/RNN_0/RNN/MultiRNNCell/Cell0/rnn/lstm_cell/bias:0' shape=(16384,) dtype=float32>,\n",
              " <tf.Variable 'elmo_embedding_layer_module/bilm/RNN_0/RNN/MultiRNNCell/Cell0/rnn/lstm_cell/kernel:0' shape=(1024, 16384) dtype=float32>,\n",
              " <tf.Variable 'elmo_embedding_layer_module/bilm/RNN_0/RNN/MultiRNNCell/Cell0/rnn/lstm_cell/projection/kernel:0' shape=(4096, 512) dtype=float32>,\n",
              " <tf.Variable 'elmo_embedding_layer_module/bilm/RNN_0/RNN/MultiRNNCell/Cell1/rnn/lstm_cell/bias:0' shape=(16384,) dtype=float32>,\n",
              " <tf.Variable 'elmo_embedding_layer_module/bilm/RNN_0/RNN/MultiRNNCell/Cell1/rnn/lstm_cell/kernel:0' shape=(1024, 16384) dtype=float32>,\n",
              " <tf.Variable 'elmo_embedding_layer_module/bilm/RNN_0/RNN/MultiRNNCell/Cell1/rnn/lstm_cell/projection/kernel:0' shape=(4096, 512) dtype=float32>,\n",
              " <tf.Variable 'elmo_embedding_layer_module/bilm/RNN_1/RNN/MultiRNNCell/Cell0/rnn/lstm_cell/bias:0' shape=(16384,) dtype=float32>,\n",
              " <tf.Variable 'elmo_embedding_layer_module/bilm/RNN_1/RNN/MultiRNNCell/Cell0/rnn/lstm_cell/kernel:0' shape=(1024, 16384) dtype=float32>,\n",
              " <tf.Variable 'elmo_embedding_layer_module/bilm/RNN_1/RNN/MultiRNNCell/Cell0/rnn/lstm_cell/projection/kernel:0' shape=(4096, 512) dtype=float32>,\n",
              " <tf.Variable 'elmo_embedding_layer_module/bilm/RNN_1/RNN/MultiRNNCell/Cell1/rnn/lstm_cell/bias:0' shape=(16384,) dtype=float32>,\n",
              " <tf.Variable 'elmo_embedding_layer_module/bilm/RNN_1/RNN/MultiRNNCell/Cell1/rnn/lstm_cell/kernel:0' shape=(1024, 16384) dtype=float32>,\n",
              " <tf.Variable 'elmo_embedding_layer_module/bilm/RNN_1/RNN/MultiRNNCell/Cell1/rnn/lstm_cell/projection/kernel:0' shape=(4096, 512) dtype=float32>,\n",
              " <tf.Variable 'elmo_embedding_layer_module/bilm/char_embed:0' shape=(261, 16) dtype=float32>]"
            ]
          },
          "metadata": {
            "tags": []
          },
          "execution_count": 10
        }
      ]
    },
    {
      "cell_type": "code",
      "metadata": {
        "id": "zZB8f-_pxJ2N",
        "colab_type": "code",
        "outputId": "ff46524a-1176-4017-d672-80d8605723ec",
        "colab": {
          "base_uri": "https://localhost:8080/",
          "height": 51
        }
      },
      "source": [
        "model.layers[0].trainable_weights"
      ],
      "execution_count": 0,
      "outputs": [
        {
          "output_type": "execute_result",
          "data": {
            "text/plain": [
              "[<tf.Variable 'elmo_embedding_layer_module/aggregation/weights:0' shape=(3,) dtype=float32>,\n",
              " <tf.Variable 'elmo_embedding_layer_module/aggregation/scaling:0' shape=() dtype=float32>]"
            ]
          },
          "metadata": {
            "tags": []
          },
          "execution_count": 11
        }
      ]
    },
    {
      "cell_type": "code",
      "metadata": {
        "id": "eZ8YljGYxfqj",
        "colab_type": "code",
        "outputId": "1172ab69-d225-44cf-f25a-a31e155c3f71",
        "colab": {
          "base_uri": "https://localhost:8080/",
          "height": 34
        }
      },
      "source": [
        "model.predict([[\"This is so cool\"]])"
      ],
      "execution_count": 0,
      "outputs": [
        {
          "output_type": "execute_result",
          "data": {
            "text/plain": [
              "array([[-0.363752]], dtype=float32)"
            ]
          },
          "metadata": {
            "tags": []
          },
          "execution_count": 12
        }
      ]
    },
    {
      "cell_type": "code",
      "metadata": {
        "id": "0IvIcjVi2l4k",
        "colab_type": "code",
        "colab": {}
      },
      "source": [
        ""
      ],
      "execution_count": 0,
      "outputs": []
    }
  ]
}