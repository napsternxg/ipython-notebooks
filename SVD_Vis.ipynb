{
  "nbformat": 4,
  "nbformat_minor": 0,
  "metadata": {
    "colab": {
      "name": "SVD Vis.ipynb",
      "provenance": [],
      "authorship_tag": "ABX9TyMFqmAomFGZG+3S/UOpY3Fg",
      "include_colab_link": true
    },
    "kernelspec": {
      "name": "python3",
      "display_name": "Python 3"
    },
    "language_info": {
      "name": "python"
    }
  },
  "cells": [
    {
      "cell_type": "markdown",
      "metadata": {
        "id": "view-in-github",
        "colab_type": "text"
      },
      "source": [
        "<a href=\"https://colab.research.google.com/github/napsternxg/ipython-notebooks/blob/master/SVD_Vis.ipynb\" target=\"_parent\"><img src=\"https://colab.research.google.com/assets/colab-badge.svg\" alt=\"Open In Colab\"/></a>"
      ]
    },
    {
      "cell_type": "code",
      "execution_count": null,
      "metadata": {
        "id": "Fsr-s1zpHLJh"
      },
      "outputs": [],
      "source": [
        "import numpy as np\n",
        "import matplotlib.pyplot as plt"
      ]
    },
    {
      "cell_type": "code",
      "source": [
        "N, d = 1000, 2\n",
        "k_true = 5\n",
        "noise_ratio = 0.08\n",
        "mu_true = np.random.randn(1, k_true, d)\n",
        "membership_idx = np.random.randint(k_true, size=(N,1))\n",
        "z_i = (membership_idx == np.arange(k_true))[:, :, np.newaxis]\n",
        "# Mixture distribution\n",
        "X = (np.random.randn(N, k_true, d)*noise_ratio  + (z_i * mu_true)).sum(axis=1)\n",
        "(z_i * mu_true).shape, X.shape"
      ],
      "metadata": {
        "colab": {
          "base_uri": "https://localhost:8080/"
        },
        "id": "JeGoMVk7HO2Z",
        "outputId": "c94cc633-d329-4099-ed00-af4ec8430237"
      },
      "execution_count": null,
      "outputs": [
        {
          "output_type": "execute_result",
          "data": {
            "text/plain": [
              "((1000, 5, 2), (1000, 2))"
            ]
          },
          "metadata": {},
          "execution_count": 74
        }
      ]
    },
    {
      "cell_type": "code",
      "source": [
        "z_i.sum(axis=0)"
      ],
      "metadata": {
        "colab": {
          "base_uri": "https://localhost:8080/"
        },
        "id": "LKZjt1UnknV3",
        "outputId": "0c3e779d-7d0e-4226-efc6-c8c1b7d5688f"
      },
      "execution_count": null,
      "outputs": [
        {
          "output_type": "execute_result",
          "data": {
            "text/plain": [
              "array([[199],\n",
              "       [191],\n",
              "       [179],\n",
              "       [195],\n",
              "       [236]])"
            ]
          },
          "metadata": {},
          "execution_count": 75
        }
      ]
    },
    {
      "cell_type": "code",
      "source": [
        "plt.scatter(X[:, 0], X[:, 1], c=membership_idx, cmap=\"Set2\")"
      ],
      "metadata": {
        "colab": {
          "base_uri": "https://localhost:8080/",
          "height": 282
        },
        "id": "IkbB8fCiIc-9",
        "outputId": "6413750a-fcaf-453b-bf51-0b1f11f02a8a"
      },
      "execution_count": null,
      "outputs": [
        {
          "output_type": "execute_result",
          "data": {
            "text/plain": [
              "<matplotlib.collections.PathCollection at 0x7f16f8a9b790>"
            ]
          },
          "metadata": {},
          "execution_count": 76
        },
        {
          "output_type": "display_data",
          "data": {
            "image/png": "[encoded data removed]",
            "text/plain": [
              "<Figure size 432x288 with 1 Axes>"
            ]
          },
          "metadata": {
            "needs_background": "light"
          }
        }
      ]
    },
    {
      "cell_type": "code",
      "source": [
        "U, s, VT = np.linalg.svd(X, full_matrices=False)\n",
        "U.shape, s.shape, VT.shape"
      ],
      "metadata": {
        "colab": {
          "base_uri": "https://localhost:8080/"
        },
        "id": "2iXWyDmDHvWL",
        "outputId": "4d3ce8e6-a9a7-4493-b1cd-a896cbdafe31"
      },
      "execution_count": null,
      "outputs": [
        {
          "output_type": "execute_result",
          "data": {
            "text/plain": [
              "((1000, 2), (2,), (2, 2))"
            ]
          },
          "metadata": {},
          "execution_count": 77
        }
      ]
    },
    {
      "cell_type": "code",
      "source": [
        "X_approx = (U @ np.diag(s) @ VT)\n",
        "X_approx.shape, ((X - X_approx)**2).sum()"
      ],
      "metadata": {
        "colab": {
          "base_uri": "https://localhost:8080/"
        },
        "id": "t93EPVdghs9n",
        "outputId": "10811afa-4ba7-4d77-9f4e-45fa213c2344"
      },
      "execution_count": null,
      "outputs": [
        {
          "output_type": "execute_result",
          "data": {
            "text/plain": [
              "((1000, 2), 5.775402455856939e-29)"
            ]
          },
          "metadata": {},
          "execution_count": 78
        }
      ]
    },
    {
      "cell_type": "code",
      "source": [
        "plt.plot(s, \"-bo\")\n",
        "plt.axvline(x=k_true, color=\"k\", lw=1, linestyle=\"--\")\n",
        "plt.matshow(np.diag(s))\n",
        "plt.matshow(VT)\n",
        "plt.matshow(U.T)\n"
      ],
      "metadata": {
        "colab": {
          "base_uri": "https://localhost:8080/",
          "height": 836
        },
        "id": "wFCTnncQlnKL",
        "outputId": "67056e3d-1ecf-432d-a51b-36724b942019"
      },
      "execution_count": null,
      "outputs": [
        {
          "output_type": "execute_result",
          "data": {
            "text/plain": [
              "<matplotlib.image.AxesImage at 0x7f16f898a490>"
            ]
          },
          "metadata": {},
          "execution_count": 79
        },
        {
          "output_type": "display_data",
          "data": {
            "image/png": "[encoded data removed]",
            "text/plain": [
              "<Figure size 432x288 with 1 Axes>"
            ]
          },
          "metadata": {
            "needs_background": "light"
          }
        },
        {
          "output_type": "display_data",
          "data": {
            "image/png": "[encoded data removed]",
            "text/plain": [
              "<Figure size 288x288 with 1 Axes>"
            ]
          },
          "metadata": {
            "needs_background": "light"
          }
        },
        {
          "output_type": "display_data",
          "data": {
            "image/png": "[encoded data removed]",
            "text/plain": [
              "<Figure size 288x288 with 1 Axes>"
            ]
          },
          "metadata": {
            "needs_background": "light"
          }
        },
        {
          "output_type": "display_data",
          "data": {
            "image/png": "[encoded data removed]",
            "text/plain": [
              "<Figure size 1152x144 with 1 Axes>"
            ]
          },
          "metadata": {
            "needs_background": "light"
          }
        }
      ]
    },
    {
      "cell_type": "code",
      "source": [
        "U[:, :k_true].shape, s[:k_true].shape, VT[:k_true, :].shape"
      ],
      "metadata": {
        "colab": {
          "base_uri": "https://localhost:8080/"
        },
        "id": "RQRqdX9yI1sq",
        "outputId": "36047c89-e166-4d35-93f0-b6fef250197e"
      },
      "execution_count": null,
      "outputs": [
        {
          "output_type": "execute_result",
          "data": {
            "text/plain": [
              "((1000, 2), (2,), (2, 2))"
            ]
          },
          "metadata": {},
          "execution_count": 80
        }
      ]
    },
    {
      "cell_type": "code",
      "source": [
        "X_approx = (U[:, :k_true] @ np.diag(s)[:k_true, :k_true] @ VT[:k_true, :])\n",
        "X_approx.shape, ((X - X_approx)**2).sum()"
      ],
      "metadata": {
        "colab": {
          "base_uri": "https://localhost:8080/"
        },
        "id": "KZ_YTptZlO70",
        "outputId": "8977681f-73e6-4350-ecf7-b1d151820ac4"
      },
      "execution_count": null,
      "outputs": [
        {
          "output_type": "execute_result",
          "data": {
            "text/plain": [
              "((1000, 2), 5.775402455856939e-29)"
            ]
          },
          "metadata": {},
          "execution_count": 85
        }
      ]
    },
    {
      "cell_type": "code",
      "source": [
        "X_reduced = VT[:k_true]\n",
        "X_reduced.shape"
      ],
      "metadata": {
        "colab": {
          "base_uri": "https://localhost:8080/"
        },
        "id": "d7gYOeNsn80G",
        "outputId": "402f36b7-edf4-419e-b2a7-f034e0ea0ba6"
      },
      "execution_count": null,
      "outputs": [
        {
          "output_type": "execute_result",
          "data": {
            "text/plain": [
              "(2, 2)"
            ]
          },
          "metadata": {},
          "execution_count": 102
        }
      ]
    },
    {
      "cell_type": "code",
      "source": [
        "plt.scatter(X_approx[:, 0], X_approx[:, 1], c=membership_idx, cmap=\"Set2\")\n",
        "plt.plot(X_reduced[:, 0], X_reduced[:, 1], \"*r\")"
      ],
      "metadata": {
        "colab": {
          "base_uri": "https://localhost:8080/",
          "height": 282
        },
        "id": "s8Zg31x7nELP",
        "outputId": "aa5e9992-c977-4494-c17e-5ab4431b8387"
      },
      "execution_count": null,
      "outputs": [
        {
          "output_type": "execute_result",
          "data": {
            "text/plain": [
              "[<matplotlib.lines.Line2D at 0x7f16f843cc10>]"
            ]
          },
          "metadata": {},
          "execution_count": 103
        },
        {
          "output_type": "display_data",
          "data": {
            "image/png": "[encoded data removed]",
            "text/plain": [
              "<Figure size 432x288 with 1 Axes>"
            ]
          },
          "metadata": {
            "needs_background": "light"
          }
        }
      ]
    },
    {
      "cell_type": "code",
      "source": [
        "approx_err = []\n",
        "for i in range(1, d+1):\n",
        "  X_approx = (U[:, :i] @ np.diag(s)[:i, :i] @ VT[:i, :])\n",
        "  e = ((X - X_approx)**2).sum()\n",
        "  approx_err.append(e)\n",
        "plt.plot(range(1, d+1), approx_err, \"-bo\")\n",
        "plt.axvline(x=k_true, color=\"k\", lw=1, linestyle=\"--\")\n",
        "plt.yscale(\"log\")"
      ],
      "metadata": {
        "colab": {
          "base_uri": "https://localhost:8080/",
          "height": 265
        },
        "id": "iLvQuL4F4NRf",
        "outputId": "855095cf-f08d-446f-8b41-6ed7aa1ddfe6"
      },
      "execution_count": null,
      "outputs": [
        {
          "output_type": "display_data",
          "data": {
            "image/png": "[encoded data removed]",
            "text/plain": [
              "<Figure size 432x288 with 1 Axes>"
            ]
          },
          "metadata": {
            "needs_background": "light"
          }
        }
      ]
    },
    {
      "cell_type": "code",
      "source": [
        "plt.plot(s, approx_err, \"-bo\")\n",
        "# plt.yscale(\"log\")"
      ],
      "metadata": {
        "colab": {
          "base_uri": "https://localhost:8080/",
          "height": 284
        },
        "id": "lTzZQGiQi_FT",
        "outputId": "62bf7bd4-1344-477b-e8e7-b0bef6158f7c"
      },
      "execution_count": null,
      "outputs": [
        {
          "output_type": "execute_result",
          "data": {
            "text/plain": [
              "[<matplotlib.lines.Line2D at 0x7f16fd23d290>]"
            ]
          },
          "metadata": {},
          "execution_count": 44
        },
        {
          "output_type": "display_data",
          "data": {
            "image/png": "[encoded data removed]",
            "text/plain": [
              "<Figure size 432x288 with 1 Axes>"
            ]
          },
          "metadata": {
            "needs_background": "light"
          }
        }
      ]
    },
    {
      "cell_type": "code",
      "source": [
        "(X @ VT[:k_true, :].T).shape"
      ],
      "metadata": {
        "colab": {
          "base_uri": "https://localhost:8080/"
        },
        "id": "6JQy4rSroIWn",
        "outputId": "e0bc2b88-8c1a-48d9-9274-d8d3cb1b5b49"
      },
      "execution_count": null,
      "outputs": [
        {
          "output_type": "execute_result",
          "data": {
            "text/plain": [
              "(1000, 2)"
            ]
          },
          "metadata": {},
          "execution_count": 45
        }
      ]
    },
    {
      "cell_type": "code",
      "source": [
        "idx = np.argsort(membership_idx.ravel())\n",
        "idx.shape"
      ],
      "metadata": {
        "colab": {
          "base_uri": "https://localhost:8080/"
        },
        "id": "pZQamt-0pwLm",
        "outputId": "fca61b23-4a09-484c-dc54-0c9863459b21"
      },
      "execution_count": null,
      "outputs": [
        {
          "output_type": "execute_result",
          "data": {
            "text/plain": [
              "(1000,)"
            ]
          },
          "metadata": {},
          "execution_count": 46
        }
      ]
    },
    {
      "cell_type": "code",
      "source": [
        "membership_idx.shape"
      ],
      "metadata": {
        "colab": {
          "base_uri": "https://localhost:8080/"
        },
        "id": "qsuoNII3sYKm",
        "outputId": "62b2606b-8161-4a02-d5b0-002093b99f7a"
      },
      "execution_count": null,
      "outputs": [
        {
          "output_type": "execute_result",
          "data": {
            "text/plain": [
              "(1000, 1)"
            ]
          },
          "metadata": {},
          "execution_count": 47
        }
      ]
    },
    {
      "cell_type": "code",
      "source": [
        "plt.matshow((membership_idx[idx] == membership_idx[idx].ravel()))"
      ],
      "metadata": {
        "colab": {
          "base_uri": "https://localhost:8080/",
          "height": 292
        },
        "id": "xKRPUkerpTcJ",
        "outputId": "f26f0430-1dd1-4728-e72f-14713c282c77"
      },
      "execution_count": null,
      "outputs": [
        {
          "output_type": "execute_result",
          "data": {
            "text/plain": [
              "<matplotlib.image.AxesImage at 0x7f16fae04610>"
            ]
          },
          "metadata": {},
          "execution_count": 48
        },
        {
          "output_type": "display_data",
          "data": {
            "image/png": "[encoded data removed]",
            "text/plain": [
              "<Figure size 288x288 with 1 Axes>"
            ]
          },
          "metadata": {
            "needs_background": "light"
          }
        }
      ]
    },
    {
      "cell_type": "code",
      "source": [
        "plt.matshow((X[idx] @ VT[:k_true, :].T).argmax(axis=-1) == z_i[idx].argmax(axis=1))"
      ],
      "metadata": {
        "colab": {
          "base_uri": "https://localhost:8080/",
          "height": 292
        },
        "id": "cQhNleRqor6c",
        "outputId": "db90945c-2f47-4042-bc95-9ce022b1c574"
      },
      "execution_count": null,
      "outputs": [
        {
          "output_type": "execute_result",
          "data": {
            "text/plain": [
              "<matplotlib.image.AxesImage at 0x7f16fb0dbd10>"
            ]
          },
          "metadata": {},
          "execution_count": 49
        },
        {
          "output_type": "display_data",
          "data": {
            "image/png": "[encoded data removed]",
            "text/plain": [
              "<Figure size 288x288 with 1 Axes>"
            ]
          },
          "metadata": {
            "needs_background": "light"
          }
        }
      ]
    },
    {
      "cell_type": "code",
      "source": [
        "(X[idx] @ VT[:k_true, :].T).argmax(axis=-1).shape"
      ],
      "metadata": {
        "colab": {
          "base_uri": "https://localhost:8080/"
        },
        "id": "ndhumNSntGK7",
        "outputId": "00ee6a31-aa01-4f14-d49a-be00ed0f0c98"
      },
      "execution_count": null,
      "outputs": [
        {
          "output_type": "execute_result",
          "data": {
            "text/plain": [
              "(1000,)"
            ]
          },
          "metadata": {},
          "execution_count": 50
        }
      ]
    },
    {
      "cell_type": "code",
      "source": [
        "# i = k_true + 30\n",
        "i = d\n",
        "X_vtt = (X[idx] @ VT[:i, :].T)\n",
        "X_ut = (U[:, :i].T @ X[idx])\n",
        "X_utxv = (U[:, :i].T @ X[idx] @ VT[:i, :].T)\n",
        "plt.matshow(X_vtt.argmax(axis=-1)[:, np.newaxis] == X_vtt.argmax(axis=-1))\n",
        "plt.matshow(X_ut.argmax(axis=-1)[:, np.newaxis] == X_ut.argmax(axis=-1))\n",
        "plt.matshow(X_utxv.argmax(axis=-1)[:, np.newaxis] == X_utxv.argmax(axis=-1))\n",
        "X_vtt.shape, X_ut.shape, X_utxv.shape"
      ],
      "metadata": {
        "colab": {
          "base_uri": "https://localhost:8080/",
          "height": 808
        },
        "id": "reqq5q622WuO",
        "outputId": "a93e7396-5993-438f-887f-be1f6f94384c"
      },
      "execution_count": null,
      "outputs": [
        {
          "output_type": "execute_result",
          "data": {
            "text/plain": [
              "((1000, 2), (2, 2), (2, 2))"
            ]
          },
          "metadata": {},
          "execution_count": 51
        },
        {
          "output_type": "display_data",
          "data": {
            "image/png": "[encoded data removed]",
            "text/plain": [
              "<Figure size 288x288 with 1 Axes>"
            ]
          },
          "metadata": {
            "needs_background": "light"
          }
        },
        {
          "output_type": "display_data",
          "data": {
            "image/png": "[encoded data removed]",
            "text/plain": [
              "<Figure size 288x288 with 1 Axes>"
            ]
          },
          "metadata": {
            "needs_background": "light"
          }
        },
        {
          "output_type": "display_data",
          "data": {
            "image/png": "[encoded data removed]",
            "text/plain": [
              "<Figure size 288x288 with 1 Axes>"
            ]
          },
          "metadata": {
            "needs_background": "light"
          }
        }
      ]
    },
    {
      "cell_type": "code",
      "source": [
        ""
      ],
      "metadata": {
        "id": "AVIMyeJAtK20"
      },
      "execution_count": null,
      "outputs": []
    },
    {
      "cell_type": "code",
      "source": [
        ""
      ],
      "metadata": {
        "id": "43NPMEHf1M6r"
      },
      "execution_count": null,
      "outputs": []
    }
  ]
}