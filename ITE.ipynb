{
 "cells": [
  {
   "cell_type": "markdown",
   "metadata": {},
   "source": [
    "# Information Theoretical Estimators (ITE) in Python\n",
    "\n",
    "https://bitbucket.org/szzoli/ite-in-python/src/master/\n",
    "\n",
    "Examples from: https://bitbucket.org/szzoli/ite-in-python/downloads/ITE-1.1_documentation.pdf"
   ]
  },
  {
   "cell_type": "code",
   "execution_count": 1,
   "metadata": {},
   "outputs": [],
   "source": [
    "import ite # import the ITE toolbox (1x)"
   ]
  },
  {
   "cell_type": "code",
   "execution_count": 2,
   "metadata": {},
   "outputs": [],
   "source": [
    "import numpy as np"
   ]
  },
  {
   "cell_type": "code",
   "execution_count": 3,
   "metadata": {},
   "outputs": [],
   "source": [
    "co1 = ite.cost.BHShannon_KnnK() # initialize the entropy (2nd character = ’H’) estimator"
   ]
  },
  {
   "cell_type": "code",
   "execution_count": 4,
   "metadata": {},
   "outputs": [
    {
     "name": "stdout",
     "output_type": "stream",
     "text": [
      "BHShannon_KnnK -> {'mult': True, 'knn_method': 'cKDTree', 'k': 3, 'eps': 0}\n",
      "BHShannon_KnnK -> {'mult': True, 'knn_method': 'cKDTree', 'k': 2, 'eps': 0.1}\n"
     ]
    },
    {
     "data": {
      "text/plain": [
       "(0.12977836304496293, 0.11135464600911416)"
      ]
     },
     "execution_count": 4,
     "metadata": {},
     "output_type": "execute_result"
    }
   ],
   "source": [
    "print(co1) # print estimator-1\n",
    "y = np.random.rand(1000, 3) # size: number of samples × dimension, {yt}\n",
    "h = co1.estimation(y) # entropy estimation\n",
    "co2 = ite.cost.BHShannon_KnnK(knn_method='cKDTree', k=2, eps=0.1) # with other estimator\n",
    "# parameters\n",
    "print(co2) # print estimator-2\n",
    "h2 = co2.estimation(y) # entropy estimation\n",
    "h, h2"
   ]
  },
  {
   "cell_type": "code",
   "execution_count": 5,
   "metadata": {},
   "outputs": [
    {
     "data": {
      "text/plain": [
       "-0.0005586476623290824"
      ]
     },
     "execution_count": 5,
     "metadata": {},
     "output_type": "execute_result"
    }
   ],
   "source": [
    "co = ite.cost.MIShannon_DKL() # initialize the mutual information estimator\n",
    "# (MIShannon_DKL: 2nd character = ’I’)\n",
    "ds = np.array([2, 3, 4]) # y\n",
    "t = 2000 # number of samples\n",
    "y = np.random.randn(t, sum(ds)) # size: number of samples × dimension\n",
    "i = co.estimation(y, ds) # estimate mutual information\n",
    "i"
   ]
  },
  {
   "cell_type": "code",
   "execution_count": 6,
   "metadata": {},
   "outputs": [
    {
     "data": {
      "text/plain": [
       "-0.022326680988546732"
      ]
     },
     "execution_count": 6,
     "metadata": {},
     "output_type": "execute_result"
    }
   ],
   "source": [
    "from numpy.random import randn # ’randn’ is used to generate our observations\n",
    "co = ite.cost.BDKL_KnnK() # initialize the divergence (2nd character = ’D’) estimator\n",
    "dim = 3 # y\n",
    "t1, t2 = 2000, 3000 # number of samples from y\n",
    "y1 = randn(t1, dim) # size: number of samples1 × dimension, {y\n",
    "\n",
    "y2 = randn(t2, dim) # size: number of samples2 × dimension, {y\n",
    "d = co.estimation(y1, y2) # estimate KL divergence\n",
    "d"
   ]
  },
  {
   "cell_type": "code",
   "execution_count": null,
   "metadata": {},
   "outputs": [],
   "source": [
    "from numpy import dot # create observations\n",
    "from numpy.random import rand, multivariate_normal # -||-\n",
    "dim1, dim2 = 1, 2 # y\n",
    "dim = dim1 + dim2 # y = [y\n",
    "\n",
    "t = 5000 # number of samples\n",
    "co = ite.cost.BcondHShannon_HShannon() # initialize the conditional entropy (’condH’)\n",
    "# estimator\n",
    "m, l = rand(dim), rand(dim, dim) # mean (m)\n",
    "c = dot(l, l.T) # covariance (Σ), y = N(m, Σ)\n",
    "y = multivariate_normal(m, c, t) # {yt}\n",
    "cond_h = co.estimation(y, dim1) # estimate conditional entropy\n",
    "cond_h"
   ]
  },
  {
   "cell_type": "code",
   "execution_count": null,
   "metadata": {},
   "outputs": [],
   "source": []
  }
 ],
 "metadata": {
  "kernelspec": {
   "display_name": "Python 3",
   "language": "python",
   "name": "python3"
  },
  "language_info": {
   "codemirror_mode": {
    "name": "ipython",
    "version": 3
   },
   "file_extension": ".py",
   "mimetype": "text/x-python",
   "name": "python",
   "nbconvert_exporter": "python",
   "pygments_lexer": "ipython3",
   "version": "3.7.3"
  }
 },
 "nbformat": 4,
 "nbformat_minor": 4
}
