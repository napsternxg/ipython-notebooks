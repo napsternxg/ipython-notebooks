{
 "cells": [
  {
   "cell_type": "markdown",
   "metadata": {},
   "source": [
    "Code inspired from: \n",
    "\n",
    "* https://github.com/valeriobasile/bwstuples/blob/master/bws.py\n",
    "* http://valeriobasile.github.io/Best-worst-scaling-and-the-clock-of-Gauss/"
   ]
  },
  {
   "cell_type": "code",
   "execution_count": 1,
   "metadata": {},
   "outputs": [],
   "source": [
    "from math import gcd"
   ]
  },
  {
   "cell_type": "code",
   "execution_count": 2,
   "metadata": {},
   "outputs": [
    {
     "data": {
      "text/plain": [
       "[0, 1, 2, 3, 4, 5, 6, 7, 8, 9]"
      ]
     },
     "execution_count": 2,
     "metadata": {},
     "output_type": "execute_result"
    }
   ],
   "source": [
    "instances = list(range(10))\n",
    "instances"
   ]
  },
  {
   "cell_type": "code",
   "execution_count": 3,
   "metadata": {},
   "outputs": [],
   "source": [
    "k = 4\n",
    "p = 3"
   ]
  },
  {
   "cell_type": "code",
   "execution_count": 4,
   "metadata": {},
   "outputs": [],
   "source": [
    "def bws_generation(instances, k, p):\n",
    "    n = len(instances)\n",
    "    \n",
    "    while gcd(n, k) != 1:\n",
    "        print(n, n-1, gcd(n, k))\n",
    "        n = max(n-1, 0)\n",
    "        \n",
    "    for j in range(p):\n",
    "        for x in range(n//k):\n",
    "            prefix = x*(k**(j+1))\n",
    "            t = [\n",
    "                (prefix + (i*(k**j))) % n \n",
    "                for i in range(k)\n",
    "            ]\n",
    "            yield t"
   ]
  },
  {
   "cell_type": "code",
   "execution_count": 5,
   "metadata": {},
   "outputs": [
    {
     "name": "stdout",
     "output_type": "stream",
     "text": [
      "10 9 2\n",
      "[0, 1, 2, 3]\n",
      "[4, 5, 6, 7]\n",
      "[0, 4, 8, 3]\n",
      "[7, 2, 6, 1]\n",
      "[0, 7, 5, 3]\n",
      "[1, 8, 6, 4]\n"
     ]
    }
   ],
   "source": [
    "for t in bws_generation(instances, k, p):\n",
    "    print(t)"
   ]
  },
  {
   "cell_type": "markdown",
   "metadata": {},
   "source": [
    "We can use the tuples generated to ask the annotators to pick the most positive and most negative instance. "
   ]
  },
  {
   "cell_type": "code",
   "execution_count": null,
   "metadata": {},
   "outputs": [],
   "source": []
  }
 ],
 "metadata": {
  "kernelspec": {
   "display_name": "Python 3",
   "language": "python",
   "name": "python3"
  },
  "language_info": {
   "codemirror_mode": {
    "name": "ipython",
    "version": 3
   },
   "file_extension": ".py",
   "mimetype": "text/x-python",
   "name": "python",
   "nbconvert_exporter": "python",
   "pygments_lexer": "ipython3",
   "version": "3.7.3"
  }
 },
 "nbformat": 4,
 "nbformat_minor": 4
}
