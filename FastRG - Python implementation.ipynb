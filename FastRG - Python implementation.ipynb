{
 "cells": [
  {
   "cell_type": "markdown",
   "metadata": {},
   "source": [
    "# [Fast RG - quickly sampling a sparse matrix with low rank expectation](https://arxiv.org/pdf/1703.02998.pdf)\n",
    "\n",
    "R Code: https://github.com/RoheLab/fastRG/\n",
    "Python original implementation: https://github.com/yunjhongwu/matrix-routines/blob/master/fastRG.py\n",
    "\n",
    "Key algorithm:\n",
    "\n",
    "\n",
    "```\n",
    "Require: X ∈ Rn×Kx, S ∈ RKx×Ky, and Y ∈ Rd×Ky with all matrices containing non-negative entries.\n",
    "Compute diagonal matrix CX ∈ RKx×Kx with CX = diag(∑i Xi1 , ... , ∑i XiKx).\n",
    "Compute diagonal matrix CY ∈ RKy×Ky with CY = diag(∑i Yi1 , ... , ∑i YiKy).\n",
    "Define X˜ = XC−1X, S˜ = CX SCY , and Y˜ = YC−1Y.\n",
    "Sample the number of edges m ∼ Poisson(∑u,v S˜uv).\n",
    "for ` = 1 : m do\n",
    "    Sample U ∈ {1, ..., Kx},V ∈ {1, ..., Ky} with P(U = u,V = v) ∝ S˜uv.\n",
    "    Sample I ∈ {1, ..., n} with P(I = i) = X˜iU .\n",
    "    Sample J ∈ {1, ..., d} with P(J = j) = Y˜jV .\n",
    "    Add edge (I, J) to the graph, allowing for multiple edges (I, J).\n",
    "end for\n",
    "```\n"
   ]
  },
  {
   "cell_type": "code",
   "execution_count": 1,
   "metadata": {},
   "outputs": [],
   "source": [
    "import numpy as np\n",
    "import scipy.sparse as scs\n",
    "\n",
    "import matplotlib.pyplot as plt\n",
    "import seaborn as sns"
   ]
  },
  {
   "cell_type": "code",
   "execution_count": 2,
   "metadata": {},
   "outputs": [],
   "source": [
    "N, D = 10, 7\n",
    "K1, K2 = 5, 4"
   ]
  },
  {
   "cell_type": "code",
   "execution_count": 3,
   "metadata": {},
   "outputs": [],
   "source": [
    "def create_sparse_matrix(N,K):\n",
    "    cols = np.random.randint(K, size=(N,)) # membership\n",
    "    rows = np.arange(N, dtype=int)\n",
    "    data = np.ones_like(rows)\n",
    "    \n",
    "    X = scs.csc_matrix((data, (rows, cols)), shape=(N,K))\n",
    "    return X\n",
    "\n",
    "def plot_matrix(X, name=\"X\", ax=None):\n",
    "    if ax is None:\n",
    "        fig, ax = plt.subplots(1,1)\n",
    "    if not isinstance(X, np.ndarray):\n",
    "        X = X.toarray()\n",
    "    sns.heatmap(\n",
    "        X, cmap=\"Reds\", \n",
    "        vmin=0, vmax=1,\n",
    "        linewidths=.5,\n",
    "        square=True, cbar=False, \n",
    "        ax=ax\n",
    "    )\n",
    "    ax.set_title(name)"
   ]
  },
  {
   "cell_type": "code",
   "execution_count": 4,
   "metadata": {},
   "outputs": [
    {
     "data": {
      "text/plain": [
       "(<10x5 sparse matrix of type '<class 'numpy.longlong'>'\n",
       " \twith 10 stored elements in Compressed Sparse Column format>,\n",
       " <7x4 sparse matrix of type '<class 'numpy.longlong'>'\n",
       " \twith 7 stored elements in Compressed Sparse Column format>,\n",
       " <5x4 sparse matrix of type '<class 'numpy.longlong'>'\n",
       " \twith 5 stored elements in Compressed Sparse Column format>)"
      ]
     },
     "execution_count": 4,
     "metadata": {},
     "output_type": "execute_result"
    }
   ],
   "source": [
    "X = create_sparse_matrix(N,K1)\n",
    "Y = create_sparse_matrix(D,K2)\n",
    "S = create_sparse_matrix(K1,K2)\n",
    "X, Y, S"
   ]
  },
  {
   "cell_type": "code",
   "execution_count": 5,
   "metadata": {},
   "outputs": [
    {
     "data": {
      "text/plain": [
       "<10x7 sparse matrix of type '<class 'numpy.longlong'>'\n",
       "\twith 7 stored elements in Compressed Sparse Column format>"
      ]
     },
     "execution_count": 5,
     "metadata": {},
     "output_type": "execute_result"
    }
   ],
   "source": [
    "A = X.dot(S).dot(Y.T)\n",
    "A"
   ]
  },
  {
   "cell_type": "code",
   "execution_count": 6,
   "metadata": {},
   "outputs": [
    {
     "data": {
      "image/png": "[encoded data removed]",
      "text/plain": [
       "<Figure size 432x288 with 4 Axes>"
      ]
     },
     "metadata": {
      "needs_background": "light"
     },
     "output_type": "display_data"
    }
   ],
   "source": [
    "fig, ax = plt.subplots(1,4)\n",
    "plot_matrix(X, name=\"X\", ax=ax[0])\n",
    "plot_matrix(S, name=\"S\", ax=ax[1])\n",
    "plot_matrix(Y, name=\"Y\", ax=ax[2])\n",
    "plot_matrix(A, name=\"A\", ax=ax[3])\n",
    "fig.tight_layout()"
   ]
  },
  {
   "cell_type": "code",
   "execution_count": 7,
   "metadata": {},
   "outputs": [],
   "source": [
    "class FastRG(object):\n",
    "    def __init__(self, X, Y, S):        \n",
    "        self.X_prime, self.Y_prime, self.S_prime = FastRG.compute_primes(X, Y, S)\n",
    "        \n",
    "    @classmethod\n",
    "    def compute_C(cls, X):\n",
    "        CX = np.asarray(X.sum(axis=0)).sum(axis=0)#.ravel()\n",
    "        return CX\n",
    "    \n",
    "    @classmethod\n",
    "    def compute_primes(cls, X, Y, S):\n",
    "        CX = FastRG.compute_C(X)\n",
    "        CY = FastRG.compute_C(Y)\n",
    "        \n",
    "        X_prime = X / CX\n",
    "        Y_prime = Y / CY\n",
    "        S_prime = CX[:, np.newaxis] * S.toarray() * CY # CX.dot(S.toarray()).dot(CY)\n",
    "        \n",
    "        return X_prime, Y_prime, S_prime\n",
    "    \n",
    "    @classmethod\n",
    "    def sample_block_edges(cls, S_prime, m):        \n",
    "        UV_counts = np.random.multinomial(m, S_prime.ravel()/S_prime.sum()).reshape(S_prime.shape)\n",
    "        UV_counts_indices = np.indices(UV_counts.shape) # row, col\n",
    "        U, V = UV_counts_indices[:, UV_counts > 0]\n",
    "        UV_counts_nz = UV_counts[U, V]\n",
    "        \n",
    "        return U, V, UV_counts_nz\n",
    "    \n",
    "    @classmethod\n",
    "    def sample_edges(cls, X_prime, Y_prime, U, V, UV_counts_nz, m):\n",
    "        sampled_edges = set()\n",
    "        sampled_edges_ids = dict()\n",
    "        for i,(u,v,c) in enumerate(zip(U, V, UV_counts_nz)):\n",
    "            print(f\"Sampling using u={u}, v={v}, c={c}\")\n",
    "            uv_edges = set()\n",
    "            remaining_edges = c - len(uv_edges)\n",
    "            while remaining_edges > 0:\n",
    "                i_samples = np.random.choice(np.arange(N), p=np.asarray(X_prime[:, u]).ravel(), size=c)\n",
    "                j_samples = np.random.choice(np.arange(D), p=np.asarray(Y_prime[:, v]).ravel(), size=c)\n",
    "#                 print(i_samples, j_samples)\n",
    "                new_edges = set(zip(i_samples, j_samples)) - uv_edges\n",
    "                if len(new_edges) >= remaining_edges:\n",
    "                    new_edges = list(new_edges)[:remaining_edges]\n",
    "                uv_edges.update(new_edges)\n",
    "                uv_edges = uv_edges - sampled_edges\n",
    "                remaining_edges = c - len(uv_edges)\n",
    "                break\n",
    "                # print(f\"\\tremaining_edges={remaining_edges}: {new_edges}\")\n",
    "            sampled_edges_ids.update({e: i for e in uv_edges - sampled_edges})\n",
    "            sampled_edges.update(uv_edges)\n",
    "        \n",
    "        print(f\"Sampled {len(sampled_edges)} edges, needed: {m}\")\n",
    "\n",
    "        sampled_rows, sampled_cols = map(np.array, zip(*list(sampled_edges)))\n",
    "        data = [sampled_edges_ids[(u,v)] for u,v in zip(sampled_rows, sampled_cols)]\n",
    "#         data = np.ones_like(sampled_rows)\n",
    "        \n",
    "        \n",
    "        return data, sampled_rows, sampled_cols\n",
    "        \n",
    "        \n",
    "        \n",
    "    def sample(self):\n",
    "        X_prime, Y_prime, S_prime = self.X_prime, self.Y_prime, self.S_prime\n",
    "        \n",
    "        N, K1 = X_prime.shape\n",
    "        D, K2 = Y_prime.shape\n",
    "        \n",
    "        m = np.random.poisson(S_prime.sum())        \n",
    "        \n",
    "        U, V, UV_counts_nz = FastRG.sample_block_edges(S_prime, m)\n",
    "        data, sampled_rows, sampled_cols = FastRG.sample_edges(X_prime, Y_prime, U, V, UV_counts_nz, m)\n",
    "        \n",
    "#         UV_counts = np.random.multinomial(m, S_prime.ravel()/S_prime.sum()).reshape(K1,K2)\n",
    "#         UV_counts_indices = np.indices(UV_counts.shape) # row, col\n",
    "#         U, V = UV_counts_indices[:, UV_counts > 0]\n",
    "#         UV_counts_nz = UV_counts[U, V]\n",
    "\n",
    "        sample_G = scs.csc_matrix((data, (sampled_rows, sampled_cols)), shape=(N,D))\n",
    "        \n",
    "        \n",
    "        return sample_G"
   ]
  },
  {
   "cell_type": "code",
   "execution_count": 8,
   "metadata": {},
   "outputs": [
    {
     "name": "stderr",
     "output_type": "stream",
     "text": [
      "/Users/smishra/miniconda3/lib/python3.7/site-packages/scipy/sparse/base.py:599: RuntimeWarning: invalid value encountered in true_divide\n",
      "  return np.true_divide(self.todense(), other)\n",
      "/Users/smishra/miniconda3/lib/python3.7/site-packages/scipy/sparse/base.py:599: RuntimeWarning: invalid value encountered in true_divide\n",
      "  return np.true_divide(self.todense(), other)\n"
     ]
    }
   ],
   "source": [
    "sampler = FastRG(X, Y, S)"
   ]
  },
  {
   "cell_type": "code",
   "execution_count": 9,
   "metadata": {},
   "outputs": [
    {
     "name": "stdout",
     "output_type": "stream",
     "text": [
      "Sampling using u=0, v=2, c=3\n",
      "Sampling using u=4, v=2, c=1\n",
      "Sampled 2 edges, needed: 4\n"
     ]
    }
   ],
   "source": [
    "sampled_A = sampler.sample()"
   ]
  },
  {
   "cell_type": "code",
   "execution_count": 10,
   "metadata": {},
   "outputs": [
    {
     "data": {
      "image/png": "[encoded data removed]",
      "text/plain": [
       "<Figure size 432x288 with 4 Axes>"
      ]
     },
     "metadata": {
      "needs_background": "light"
     },
     "output_type": "display_data"
    }
   ],
   "source": [
    "fig, ax = plt.subplots(1,4)\n",
    "plot_matrix(sampler.X_prime, name=\"X\", ax=ax[0])\n",
    "plot_matrix(sampler.Y_prime, name=\"Y\", ax=ax[2])\n",
    "plot_matrix(sampler.S_prime, name=\"S\", ax=ax[1])\n",
    "plot_matrix(sampled_A, name=\"A\", ax=ax[3])\n",
    "fig.tight_layout()"
   ]
  },
  {
   "cell_type": "code",
   "execution_count": 11,
   "metadata": {},
   "outputs": [],
   "source": [
    "from scipy.sparse import csc_matrix\n",
    "\n",
    "\n",
    "def howManyEdges(X, S, Y=None):\n",
    "    if Y is None:\n",
    "        Y = X\n",
    "    Cx = np.sum(X, axis=0)\n",
    "    Cy = np.sum(Y, axis=0)\n",
    "    \n",
    "    em = Cx @ np.sum(S * Cy, axis=1)\n",
    "    avDeg = em / X.shape[0]\n",
    "    \n",
    "    return em, avDeg\n",
    "\n",
    "\n",
    "def fastRG(X, S, Y=None, avgDeg=None, simple=None, PoissonEdges=True, \n",
    "           directed=False, selfLoops=False, returnEdgeList=False, \n",
    "           returnParameters=False):\n",
    "    \"\"\"\n",
    "    Rohe, K., Tao, J., Han, X., & Binkiewicz, N. (2017). A note on quickly \n",
    "    sampling a sparse matrix with low rank expectation. arXiv preprint \n",
    "    arXiv:1703.02998.\n",
    "    \n",
    "    Implementation of fastRG in R\n",
    "    https://github.com/karlrohe/fastRG\n",
    "    \"\"\"\n",
    "    \n",
    "    if Y is not None and Y.size > 0:\n",
    "        directed = True\n",
    "        selfLoops = True\n",
    "        simple = False\n",
    "        returnY = True\n",
    "    \n",
    "    else:\n",
    "        Y = X\n",
    "        returnY = False\n",
    "    \n",
    "    if np.any(X < 0) or np.any(S < 0) or np.any(Y < 0):\n",
    "        return None\n",
    "    \n",
    "    if simple is not None and simple:\n",
    "        selfLoops = False\n",
    "        directed = False\n",
    "        PoissonEdges = False\n",
    "    \n",
    "    n, K1 = X.shape\n",
    "    d, K2 = Y.shape\n",
    "  \n",
    "  \n",
    "    if avgDeg is not None:\n",
    "        _, eDbar = howManyEdges(X, S, Y)\n",
    "        S *= avgDeg / eDbar\n",
    "     \n",
    "  \n",
    "    if not directed:\n",
    "        S = (S + S.T) * 0.25\n",
    "        \n",
    "    Cx = np.sum(X, axis=0)\n",
    "    Cy = np.sum(Y, axis=0)\n",
    "    Xt = (X * (1 / Cx)).T\n",
    "    Yt = (Y * (1 / Cy)).T  \n",
    "  \n",
    "    St = Cx[:, None] * S * Cy\n",
    "    m = np.random.poisson(np.sum(St))  \n",
    "\n",
    "    if m == 0:\n",
    "        A = csc_matrix((n, d))\n",
    "        return (A, X, S, Y if returnY else None) if returnParameters else A\n",
    "        \n",
    "    tabUV = np.random.multinomial(m, pvals=St.ravel() * (1 / np.sum(St))).reshape((K1, K2))\n",
    "    \n",
    "    elist = np.empty((2, m))\n",
    "    eitmp = np.empty(m)\n",
    "    \n",
    "    blockDegreesU = np.sum(tabUV, axis=1)\n",
    "    tickerU = np.insert(np.cumsum(blockDegreesU), 0, 0) \n",
    "    \n",
    "    for u in range(K1):\n",
    "        if blockDegreesU[u] > 0:\n",
    "            elist[0, tickerU[u]:tickerU[u+1]] = np.random.choice(np.arange(n), size=blockDegreesU[u], \n",
    "                                                                 replace=True, p=Xt[u])\n",
    "      \n",
    "    blockDegreesV = np.sum(tabUV, axis=0)\n",
    "    tickerV = np.insert(np.cumsum(blockDegreesV), 0, 0) \n",
    "    \n",
    "    for v in range(K2):\n",
    "        if blockDegreesV[v] > 0:\n",
    "            eitmp[tickerV[v]:tickerV[v+1]] = np.random.choice(np.arange(d), size=blockDegreesV[v], \n",
    "                                                              replace=True, p=Yt[v])\n",
    "\n",
    "    ticker = 0\n",
    "    for u in range(K1):\n",
    "        for v in range(K2):   \n",
    "            if tabUV[u,v] > 0:            \n",
    "                elist[1, ticker:ticker + tabUV[u,v]] = eitmp[tickerV[v]:tickerV[v] + tabUV[u,v]]\n",
    "                ticker += tabUV[u, v]\n",
    "                \n",
    "    elist = elist.T\n",
    "\n",
    "    if not selfLoops:\n",
    "        elist = elist[np.where(elist[:, 0] != elist[:, 1])]\n",
    "        \n",
    "    if not directed:\n",
    "        if n != d:\n",
    "            raise Exception(\"{0} != {1}: Undirected network requests n == d\".format(n, d))\n",
    "        \n",
    "        elist = np.concatenate((elist, elist[:, ::-1]))\n",
    "\n",
    "    if not PoissonEdges:       \n",
    "        e = np.ascontiguousarray(elist)\n",
    "        e_unique = np.unique(e.view([('', np.int), ('', np.int)]))\n",
    "        elist = e_unique.view(np.int).reshape((e_unique.shape[0], 2))\n",
    "          \n",
    "    if returnEdgeList:\n",
    "        return elist\n",
    "    \n",
    "    else:\n",
    "        A = csc_matrix((np.ones(elist.shape[0], dtype=np.int), \n",
    "                        (elist[:, 0], elist[:, 1])), \n",
    "                       shape=(n, d), dtype=np.int)      \n",
    "\n",
    "        return (A, X, S, Y if returnY else None) if returnParameters else A\n"
   ]
  },
  {
   "cell_type": "code",
   "execution_count": 12,
   "metadata": {},
   "outputs": [
    {
     "data": {
      "text/plain": [
       "False"
      ]
     },
     "execution_count": 12,
     "metadata": {},
     "output_type": "execute_result"
    }
   ],
   "source": [
    "np.any(X.toarray() < 0)"
   ]
  },
  {
   "cell_type": "code",
   "execution_count": 13,
   "metadata": {},
   "outputs": [
    {
     "data": {
      "text/plain": [
       "0"
      ]
     },
     "execution_count": 13,
     "metadata": {},
     "output_type": "execute_result"
    }
   ],
   "source": [
    "np.any(X < 0).sum()"
   ]
  },
  {
   "cell_type": "code",
   "execution_count": 14,
   "metadata": {},
   "outputs": [
    {
     "name": "stderr",
     "output_type": "stream",
     "text": [
      "/Users/smishra/miniconda3/lib/python3.7/site-packages/ipykernel_launcher.py:60: RuntimeWarning: divide by zero encountered in true_divide\n",
      "/Users/smishra/miniconda3/lib/python3.7/site-packages/ipykernel_launcher.py:60: RuntimeWarning: invalid value encountered in multiply\n",
      "/Users/smishra/miniconda3/lib/python3.7/site-packages/ipykernel_launcher.py:61: RuntimeWarning: divide by zero encountered in true_divide\n",
      "/Users/smishra/miniconda3/lib/python3.7/site-packages/ipykernel_launcher.py:61: RuntimeWarning: invalid value encountered in multiply\n"
     ]
    }
   ],
   "source": [
    "sampled_A1 = fastRG(X.toarray(), S.toarray(), Y.toarray())"
   ]
  },
  {
   "cell_type": "code",
   "execution_count": 15,
   "metadata": {},
   "outputs": [
    {
     "data": {
      "image/png": "[encoded data removed]",
      "text/plain": [
       "<Figure size 432x288 with 5 Axes>"
      ]
     },
     "metadata": {
      "needs_background": "light"
     },
     "output_type": "display_data"
    }
   ],
   "source": [
    "fig, ax = plt.subplots(1,5)\n",
    "plot_matrix(sampler.X_prime, name=\"X\", ax=ax[0])\n",
    "plot_matrix(sampler.Y_prime, name=\"Y\", ax=ax[2])\n",
    "plot_matrix(sampler.S_prime, name=\"S\", ax=ax[1])\n",
    "plot_matrix(sampled_A, name=\"A\", ax=ax[3])\n",
    "plot_matrix(sampled_A1, name=\"A1\", ax=ax[4])\n",
    "fig.tight_layout()"
   ]
  },
  {
   "cell_type": "code",
   "execution_count": 16,
   "metadata": {},
   "outputs": [
    {
     "data": {
      "image/png": "[encoded data removed]",
      "text/plain": [
       "<Figure size 432x288 with 1 Axes>"
      ]
     },
     "metadata": {
      "needs_background": "light"
     },
     "output_type": "display_data"
    },
    {
     "data": {
      "image/png": "[encoded data removed]",
      "text/plain": [
       "<Figure size 432x288 with 1 Axes>"
      ]
     },
     "metadata": {
      "needs_background": "light"
     },
     "output_type": "display_data"
    },
    {
     "data": {
      "image/png": "[encoded data removed]",
      "text/plain": [
       "<Figure size 432x288 with 1 Axes>"
      ]
     },
     "metadata": {
      "needs_background": "light"
     },
     "output_type": "display_data"
    },
    {
     "data": {
      "image/png": "[encoded data removed]",
      "text/plain": [
       "<Figure size 432x288 with 1 Axes>"
      ]
     },
     "metadata": {
      "needs_background": "light"
     },
     "output_type": "display_data"
    },
    {
     "data": {
      "image/png": "[encoded data removed]",
      "text/plain": [
       "<Figure size 432x288 with 1 Axes>"
      ]
     },
     "metadata": {
      "needs_background": "light"
     },
     "output_type": "display_data"
    }
   ],
   "source": [
    "# fig, ax = plt.subplots(1,5)\n",
    "ax = [None, None, None, None, None]\n",
    "plot_matrix(sampler.X_prime, name=\"$\\widetilde{X}$\", ax=ax[0])\n",
    "plot_matrix(sampler.Y_prime, name=\"$\\widetilde{Y}$\", ax=ax[2])\n",
    "plot_matrix(sampler.S_prime, name=\"$\\widetilde{S}$\", ax=ax[1])\n",
    "plot_matrix(sampled_A, name=\"$\\widetilde{A}$\", ax=ax[3])\n",
    "plot_matrix(sampled_A1, name=\"$\\widetilde{A_{FastRG}}$\", ax=ax[4])\n",
    "# fig.tight_layout()"
   ]
  },
  {
   "cell_type": "code",
   "execution_count": 17,
   "metadata": {},
   "outputs": [
    {
     "data": {
      "text/plain": [
       "matrix([[0, 0, 0, 0, 0, 0, 0],\n",
       "        [0, 0, 0, 0, 0, 0, 0],\n",
       "        [0, 0, 0, 0, 0, 0, 0],\n",
       "        [0, 0, 0, 0, 0, 0, 0],\n",
       "        [0, 0, 0, 0, 0, 0, 0],\n",
       "        [0, 0, 0, 0, 0, 0, 0],\n",
       "        [0, 0, 0, 0, 0, 0, 0],\n",
       "        [0, 0, 0, 0, 0, 0, 0],\n",
       "        [0, 1, 0, 0, 0, 0, 0],\n",
       "        [0, 0, 0, 0, 0, 0, 0]], dtype=int64)"
      ]
     },
     "execution_count": 17,
     "metadata": {},
     "output_type": "execute_result"
    }
   ],
   "source": [
    "sampled_A.todense()"
   ]
  },
  {
   "cell_type": "code",
   "execution_count": 18,
   "metadata": {},
   "outputs": [
    {
     "data": {
      "text/plain": [
       "<matplotlib.axes._subplots.AxesSubplot at 0x7fc56022c3c8>"
      ]
     },
     "execution_count": 18,
     "metadata": {},
     "output_type": "execute_result"
    },
    {
     "data": {
      "image/png": "[encoded data removed]",
      "text/plain": [
       "<Figure size 432x288 with 1 Axes>"
      ]
     },
     "metadata": {
      "needs_background": "light"
     },
     "output_type": "display_data"
    }
   ],
   "source": [
    "sns.heatmap(\n",
    "    sampled_A.todense(), cmap=\"viridis\", \n",
    "#         vmin=0, vmax=1,\n",
    "    linewidths=.5,\n",
    "    square=True, cbar=False, \n",
    "#     ax=ax\n",
    ")\n",
    "#     ax.set_title(name)|"
   ]
  },
  {
   "cell_type": "code",
   "execution_count": null,
   "metadata": {},
   "outputs": [],
   "source": []
  },
  {
   "cell_type": "code",
   "execution_count": null,
   "metadata": {},
   "outputs": [],
   "source": []
  }
 ],
 "metadata": {
  "kernelspec": {
   "display_name": "Python 3",
   "language": "python",
   "name": "python3"
  },
  "language_info": {
   "codemirror_mode": {
    "name": "ipython",
    "version": 3
   },
   "file_extension": ".py",
   "mimetype": "text/x-python",
   "name": "python",
   "nbconvert_exporter": "python",
   "pygments_lexer": "ipython3",
   "version": "3.7.3"
  }
 },
 "nbformat": 4,
 "nbformat_minor": 4
}
