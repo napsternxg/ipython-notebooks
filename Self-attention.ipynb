{
 "cells": [
  {
   "cell_type": "code",
   "execution_count": 1,
   "metadata": {},
   "outputs": [],
   "source": [
    "import numpy as np\n",
    "import matplotlib.pyplot as plt\n",
    "import seaborn as sns\n",
    "from scipy.special import softmax"
   ]
  },
  {
   "cell_type": "code",
   "execution_count": 2,
   "metadata": {},
   "outputs": [
    {
     "data": {
      "text/plain": [
       "(1, 5, 6)"
      ]
     },
     "execution_count": 2,
     "metadata": {},
     "output_type": "execute_result"
    }
   ],
   "source": [
    "batch_size, max_len, in_features, num_heads = 1, 5, 3, 2\n",
    "out_features = in_features*num_heads\n",
    "X = np.random.randn(batch_size, max_len, out_features) # batch size, Sequence length, feature dimension \n",
    "X.shape"
   ]
  },
  {
   "cell_type": "code",
   "execution_count": 3,
   "metadata": {},
   "outputs": [
    {
     "data": {
      "text/plain": [
       "(6, 18)"
      ]
     },
     "execution_count": 3,
     "metadata": {},
     "output_type": "execute_result"
    }
   ],
   "source": [
    "weights = np.random.randn(out_features, out_features*3)\n",
    "weights.shape"
   ]
  },
  {
   "cell_type": "code",
   "execution_count": 4,
   "metadata": {},
   "outputs": [
    {
     "data": {
      "text/plain": [
       "(1, 5, 18)"
      ]
     },
     "execution_count": 4,
     "metadata": {},
     "output_type": "execute_result"
    }
   ],
   "source": [
    "np.matmul(X, weights).shape"
   ]
  },
  {
   "cell_type": "code",
   "execution_count": 5,
   "metadata": {},
   "outputs": [
    {
     "data": {
      "text/plain": [
       "(3, 1, 2, 3, 5)"
      ]
     },
     "execution_count": 5,
     "metadata": {},
     "output_type": "execute_result"
    }
   ],
   "source": [
    "np.matmul(X, weights).reshape(batch_size, max_len, in_features, num_heads, 3).transpose(4, 0, 3, 2, 1).shape"
   ]
  },
  {
   "cell_type": "code",
   "execution_count": 6,
   "metadata": {},
   "outputs": [
    {
     "data": {
      "text/plain": [
       "((1, 2, 5, 3), (1, 2, 5, 3), (1, 2, 5, 3))"
      ]
     },
     "execution_count": 6,
     "metadata": {},
     "output_type": "execute_result"
    }
   ],
   "source": [
    "k, q, v = np.matmul(X, weights).reshape(batch_size, max_len, in_features, num_heads, 3).transpose(4, 0, 3, 1, 2)\n",
    "k.shape, q.shape, v.shape"
   ]
  },
  {
   "cell_type": "code",
   "execution_count": 7,
   "metadata": {},
   "outputs": [
    {
     "data": {
      "text/plain": [
       "(1, 2, 5, 5)"
      ]
     },
     "execution_count": 7,
     "metadata": {},
     "output_type": "execute_result"
    }
   ],
   "source": [
    "kq = np.matmul(k, q.transpose(0, 1, 3, 2))\n",
    "kq.shape"
   ]
  },
  {
   "cell_type": "code",
   "execution_count": 8,
   "metadata": {},
   "outputs": [
    {
     "data": {
      "text/plain": [
       "(1, 2, 5, 5)"
      ]
     },
     "execution_count": 8,
     "metadata": {},
     "output_type": "execute_result"
    }
   ],
   "source": [
    "attention = softmax(kq, axis=-1)\n",
    "attention.shape"
   ]
  },
  {
   "cell_type": "code",
   "execution_count": 9,
   "metadata": {},
   "outputs": [
    {
     "data": {
      "image/png": "[encoded data removed]",
      "text/plain": [
       "<Figure size 432x288 with 2 Axes>"
      ]
     },
     "metadata": {
      "needs_background": "light"
     },
     "output_type": "display_data"
    },
    {
     "data": {
      "image/png": "[encoded data removed]",
      "text/plain": [
       "<Figure size 432x288 with 2 Axes>"
      ]
     },
     "metadata": {
      "needs_background": "light"
     },
     "output_type": "display_data"
    }
   ],
   "source": [
    "for row in attention:\n",
    "    for att in row:\n",
    "        plt.figure()\n",
    "        sns.heatmap(att)"
   ]
  },
  {
   "cell_type": "code",
   "execution_count": 10,
   "metadata": {},
   "outputs": [
    {
     "data": {
      "text/plain": [
       "(0.0, 5.0, 5.0, 0.0)"
      ]
     },
     "execution_count": 10,
     "metadata": {},
     "output_type": "execute_result"
    },
    {
     "data": {
      "image/png": "[encoded data removed]",
      "text/plain": [
       "<Figure size 432x288 with 1 Axes>"
      ]
     },
     "metadata": {
      "needs_background": "light"
     },
     "output_type": "display_data"
    }
   ],
   "source": [
    "ax = sns.heatmap(np.zeros_like(att), cbar=False, cmap=\"Greys\", linewidths=2, linecolor=\"black\", square=True)\n",
    "ax.axis(\"off\")"
   ]
  },
  {
   "cell_type": "code",
   "execution_count": 11,
   "metadata": {},
   "outputs": [
    {
     "data": {
      "text/plain": [
       "(1, 2, 3, 5)"
      ]
     },
     "execution_count": 11,
     "metadata": {},
     "output_type": "execute_result"
    }
   ],
   "source": [
    "z = np.matmul(v.transpose(0, 1, 3, 2), attention)\n",
    "z.shape"
   ]
  },
  {
   "cell_type": "code",
   "execution_count": 12,
   "metadata": {},
   "outputs": [
    {
     "data": {
      "text/plain": [
       "(1, 5, 6)"
      ]
     },
     "execution_count": 12,
     "metadata": {},
     "output_type": "execute_result"
    }
   ],
   "source": [
    "zT = z.transpose(0, 3, 2, 1)\n",
    "zT.reshape(*zT.shape[:-2], -1).shape"
   ]
  },
  {
   "cell_type": "code",
   "execution_count": 13,
   "metadata": {},
   "outputs": [],
   "source": [
    "class SelfAttention(object):\n",
    "    def __init__(self, n_features, num_heads):\n",
    "        assert (n_features % num_heads) == 0, f\"num_heads={num_heads} should divide n_features={n_features}\"\n",
    "        self.num_heads = num_heads\n",
    "        self.in_features = n_features // num_heads\n",
    "        self.weights = np.random.randn(n_features, n_features*3)\n",
    "    \n",
    "    def __call__(self, X, return_attention=False):\n",
    "        batch_size, max_len, _ = X.shape\n",
    "        in_features = self.in_features\n",
    "        num_heads = self.num_heads\n",
    "        k, q, v = np.matmul(X, self.weights).reshape(\n",
    "            batch_size, max_len, in_features, num_heads, 3\n",
    "        ).transpose(4, 0, 3, 1, 2)\n",
    "        kq = np.matmul(k, q.transpose(0, 1, 3, 2)) / np.sqrt(in_features) # Divide by sqrt(dk)\n",
    "        attention = softmax(kq, axis=-1)\n",
    "        z = np.matmul(v.transpose(0, 1, 3, 2), attention)\n",
    "        zT = z.transpose(0, 3, 2, 1)\n",
    "        zT = zT.reshape(*zT.shape[:-2], -1)\n",
    "        if return_attention:\n",
    "            return zT, attention\n",
    "        return zT"
   ]
  },
  {
   "cell_type": "code",
   "execution_count": 14,
   "metadata": {},
   "outputs": [],
   "source": [
    "self_attention_block = SelfAttention(out_features, num_heads)"
   ]
  },
  {
   "cell_type": "code",
   "execution_count": 15,
   "metadata": {},
   "outputs": [
    {
     "data": {
      "text/plain": [
       "(1, 5, 6)"
      ]
     },
     "execution_count": 15,
     "metadata": {},
     "output_type": "execute_result"
    }
   ],
   "source": [
    "zT = self_attention_block(X)\n",
    "zT.shape"
   ]
  },
  {
   "cell_type": "code",
   "execution_count": 16,
   "metadata": {},
   "outputs": [
    {
     "data": {
      "text/plain": [
       "(1, 5, 6)"
      ]
     },
     "execution_count": 16,
     "metadata": {},
     "output_type": "execute_result"
    }
   ],
   "source": [
    "X.shape"
   ]
  },
  {
   "cell_type": "code",
   "execution_count": 17,
   "metadata": {},
   "outputs": [
    {
     "data": {
      "text/plain": [
       "array([[[-0.86890532,  0.53938744, -0.55405886,  3.03202583,\n",
       "         -1.6634861 ,  2.16452607],\n",
       "        [-1.46519096,  3.86158888,  2.46917886,  3.33230105,\n",
       "          2.25701575,  0.77132251],\n",
       "        [ 0.72944962,  1.9177908 , -0.7408539 ,  1.50658511,\n",
       "          0.69802523,  3.50192254],\n",
       "        [ 4.20064395,  3.1862434 ,  1.31666193,  5.83716231,\n",
       "         21.28334127,  2.13705837],\n",
       "        [-0.35693795,  0.80508679,  0.19077483,  6.42032929,\n",
       "         -3.00990047, -0.60863669]]])"
      ]
     },
     "execution_count": 17,
     "metadata": {},
     "output_type": "execute_result"
    }
   ],
   "source": [
    "X + zT"
   ]
  },
  {
   "cell_type": "code",
   "execution_count": 18,
   "metadata": {},
   "outputs": [],
   "source": [
    "def disp_ndarray(x: np.ndarray, ax=None, title=\"x\", cmap=\"Reds\", plot_values=False):\n",
    "    shape = x.shape\n",
    "    if len(shape) > 2:\n",
    "        nrows = 1 if len(shape) < 4 else shape[-4]\n",
    "        ncols = shape[-3]\n",
    "        fig, ax = plt.subplots(nrows, ncols, sharex=True, sharey=True, squeeze=False)\n",
    "        if len(shape) < 4:\n",
    "            x = x[np.newaxis, :]\n",
    "        for row in range(nrows):\n",
    "            for col in range(ncols):\n",
    "                disp_ndarray(x[row, col, :], ax=ax[row, col], title=f\"{title}[{row}, {col}, :]\", cmap=cmap, plot_values=plot_values)\n",
    "        fig.tight_layout()\n",
    "        return fig, ax\n",
    "        pass\n",
    "    if not plot_values:\n",
    "        x = np.zeros_like(x)\n",
    "        x[np.arange(x.shape[0]) % 2 == 0, :] = 1\n",
    "    ax = sns.heatmap(x, cbar=False, cmap=cmap, linewidths=2, linecolor=\"black\", square=True, ax=ax)\n",
    "    ax.set_xlabel(f\"$N(x[-1])$: {x.shape[1]}\")\n",
    "    ax.set_ylabel(f\"$N(x[-2])$:  {x.shape[0]}\")\n",
    "    ax.set_title(title)\n",
    "    #ax.axis(\"off\")\n",
    "    return ax"
   ]
  },
  {
   "cell_type": "code",
   "execution_count": 19,
   "metadata": {},
   "outputs": [
    {
     "data": {
      "text/plain": [
       "(<Figure size 432x288 with 1 Axes>,\n",
       " array([[<matplotlib.axes._subplots.AxesSubplot object at 0x000001BBD932ECF8>]],\n",
       "       dtype=object))"
      ]
     },
     "execution_count": 19,
     "metadata": {},
     "output_type": "execute_result"
    },
    {
     "data": {
      "image/png": "[encoded data removed]",
      "text/plain": [
       "<Figure size 432x288 with 1 Axes>"
      ]
     },
     "metadata": {
      "needs_background": "light"
     },
     "output_type": "display_data"
    }
   ],
   "source": [
    "disp_ndarray(X)"
   ]
  },
  {
   "cell_type": "code",
   "execution_count": 20,
   "metadata": {},
   "outputs": [
    {
     "data": {
      "text/plain": [
       "(<Figure size 432x288 with 3 Axes>,\n",
       " array([[<matplotlib.axes._subplots.AxesSubplot object at 0x000001BBD9426EF0>],\n",
       "        [<matplotlib.axes._subplots.AxesSubplot object at 0x000001BBD944ECF8>],\n",
       "        [<matplotlib.axes._subplots.AxesSubplot object at 0x000001BBD9477F60>]],\n",
       "       dtype=object))"
      ]
     },
     "execution_count": 20,
     "metadata": {},
     "output_type": "execute_result"
    },
    {
     "data": {
      "image/png": "[encoded data removed]",
      "text/plain": [
       "<Figure size 432x288 with 3 Axes>"
      ]
     },
     "metadata": {
      "needs_background": "light"
     },
     "output_type": "display_data"
    }
   ],
   "source": [
    "disp_ndarray(np.stack([X, X, X], axis=0))"
   ]
  },
  {
   "cell_type": "code",
   "execution_count": 21,
   "metadata": {},
   "outputs": [
    {
     "data": {
      "text/plain": [
       "(<Figure size 432x288 with 2 Axes>,\n",
       " array([[<matplotlib.axes._subplots.AxesSubplot object at 0x000001BBD9169E48>,\n",
       "         <matplotlib.axes._subplots.AxesSubplot object at 0x000001BBD926A358>]],\n",
       "       dtype=object))"
      ]
     },
     "execution_count": 21,
     "metadata": {},
     "output_type": "execute_result"
    },
    {
     "data": {
      "image/png": "[encoded data removed]",
      "text/plain": [
       "<Figure size 432x288 with 2 Axes>"
      ]
     },
     "metadata": {
      "needs_background": "light"
     },
     "output_type": "display_data"
    },
    {
     "data": {
      "image/png": "[encoded data removed]",
      "text/plain": [
       "<Figure size 432x288 with 2 Axes>"
      ]
     },
     "metadata": {
      "needs_background": "light"
     },
     "output_type": "display_data"
    },
    {
     "data": {
      "image/png": "[encoded data removed]",
      "text/plain": [
       "<Figure size 432x288 with 2 Axes>"
      ]
     },
     "metadata": {
      "needs_background": "light"
     },
     "output_type": "display_data"
    }
   ],
   "source": [
    "disp_ndarray(k, title=\"k\", cmap=\"Blues\")\n",
    "disp_ndarray(q, title=\"q\", cmap=\"Reds\")\n",
    "disp_ndarray(q, title=\"v\", cmap=\"Greens\")"
   ]
  },
  {
   "cell_type": "code",
   "execution_count": 22,
   "metadata": {},
   "outputs": [],
   "source": [
    "from IPython.display import Video\n",
    "from matplotlib.animation import FFMpegFileWriter"
   ]
  },
  {
   "cell_type": "code",
   "execution_count": null,
   "metadata": {},
   "outputs": [],
   "source": [
    "with plt.style.context(\"dark_background\"):\n",
    "    fig = plt.figure(constrained_layout=True, figsize=(8,12))\n",
    "    gs = fig.add_gridspec(3, 2)\n",
    "    ax = fig.add_subplot(gs[:2, :2])\n",
    "    ax_row = fig.add_subplot(gs[2, :])\n",
    "    ax_row.set_yscale(\"symlog\")\n",
    "    ax_row.set_ylabel(\"Mean x along feature\")\n",
    "    ax_row.set_xlabel(\"Successive self-attention\")\n",
    "    moviewriter = FFMpegFileWriter(fps=1)\n",
    "    cmap = \"viridis\"\n",
    "    video_file = \"with_residual.mp4\"\n",
    "    with moviewriter.saving(fig, video_file, dpi=200):\n",
    "        #camera = Camera(fig)\n",
    "        X_init = X.copy()\n",
    "        row_values = []\n",
    "        row_values.append(X_init[0].mean(-1))\n",
    "        pallete = sns.color_palette()\n",
    "        for i in range(12):\n",
    "            disp_ndarray(X_init[0], plot_values=True, ax=ax, title=f\"$X[{i+1}] = X[{i}] + SelfAttention(X[{i}])$\", cmap=cmap);\n",
    "            for j in range(row_values[-1].shape[0]):\n",
    "                label=j if i == 0 else None\n",
    "                ax_row.plot(np.arange(len(row_values)), [r[j] for r in row_values], color=pallete[j], label=label)\n",
    "            if i == 0:\n",
    "                ax_row.legend(bbox_to_anchor=(1.05, 1), loc='upper left', title=\"$\\mathbb{E}[X[j]]$\")\n",
    "            zT = self_attention_block(X_init)\n",
    "            X_init =  zT + X_init\n",
    "            row_values.append(X_init[0].mean(-1))\n",
    "            #camera.snap()\n",
    "            moviewriter.grab_frame()\n",
    "        disp_ndarray((X_init)[0], plot_values=True, ax=ax, title=\"$X = X + SelfAttention(X)$\", cmap=cmap);\n",
    "        for j in range(row_values[-1].shape[0]):\n",
    "                ax_row.plot(np.arange(len(row_values)), [r[j] for r in row_values], color=pallete[j])\n",
    "        #camera.snap()\n",
    "        for j in range(5):\n",
    "            moviewriter.grab_frame()\n",
    "        #animation = camera.animate()\n",
    "#HTML(animation.to_html5_video())\n",
    "Video(video_file, width=200, height=200)"
   ]
  },
  {
   "cell_type": "code",
   "execution_count": null,
   "metadata": {},
   "outputs": [],
   "source": [
    "with plt.style.context(\"dark_background\"):\n",
    "    fig = plt.figure(constrained_layout=True, figsize=(8,12))\n",
    "    gs = fig.add_gridspec(3, 2)\n",
    "    ax = fig.add_subplot(gs[:2, :2])\n",
    "    ax_row = fig.add_subplot(gs[2, :])\n",
    "    ax_row.set_yscale(\"symlog\")\n",
    "    ax_row.set_ylabel(\"Mean x along feature\")\n",
    "    ax_row.set_xlabel(\"Successive self-attention\")\n",
    "    moviewriter = FFMpegFileWriter(fps=1)\n",
    "    cmap = \"viridis\"\n",
    "    video_file = \"without_residual.mp4\"\n",
    "    with moviewriter.saving(fig, video_file, dpi=200):\n",
    "        #camera = Camera(fig)\n",
    "        X_init = X.copy()\n",
    "        row_values = []\n",
    "        row_values.append(X_init[0].mean(-1))\n",
    "        pallete = sns.color_palette()\n",
    "        for i in range(12):\n",
    "            disp_ndarray(X_init[0], plot_values=True, ax=ax, title=f\"$X[{i+1}] = SelfAttention(X[{i}])$\", cmap=cmap);\n",
    "            for j in range(row_values[-1].shape[0]):\n",
    "                label=j if i == 0 else None\n",
    "                ax_row.plot(np.arange(len(row_values)), [r[j] for r in row_values], color=pallete[j], label=label)\n",
    "            if i == 0:\n",
    "                ax_row.legend(bbox_to_anchor=(1.05, 1), loc='upper left', title=\"$\\mathbb{E}[X[j]]$\")\n",
    "            zT = self_attention_block(X_init)\n",
    "            X_init =  zT \n",
    "            row_values.append(X_init[0].mean(-1))\n",
    "            #camera.snap()\n",
    "            moviewriter.grab_frame()\n",
    "        disp_ndarray((X_init)[0], plot_values=True, ax=ax, title=\"$X = SelfAttention(X)$\", cmap=cmap);\n",
    "        for j in range(row_values[-1].shape[0]):\n",
    "                ax_row.plot(np.arange(len(row_values)), [r[j] for r in row_values], color=pallete[j])\n",
    "        #camera.snap()\n",
    "        for j in range(5):\n",
    "            moviewriter.grab_frame()\n",
    "        #animation = camera.animate()\n",
    "#HTML(animation.to_html5_video())\n",
    "Video(video_file, width=200, height=200)"
   ]
  },
  {
   "cell_type": "code",
   "execution_count": null,
   "metadata": {},
   "outputs": [],
   "source": [
    "with plt.style.context(\"dark_background\"):\n",
    "    fig = plt.figure(constrained_layout=True, figsize=(8,12))\n",
    "    gs = fig.add_gridspec(3, 2)\n",
    "    ax = fig.add_subplot(gs[:2, :2])\n",
    "    ax_row = fig.add_subplot(gs[2, :])\n",
    "    ax_row.set_yscale(\"symlog\")\n",
    "    ax_row.set_ylabel(\"Mean x along feature\")\n",
    "    ax_row.set_xlabel(\"Successive self-attention\")\n",
    "    moviewriter = FFMpegFileWriter(fps=1)\n",
    "    cmap = \"viridis\"\n",
    "    video_file = \"with_residual_layernorm.mp4\"\n",
    "    with moviewriter.saving(fig, video_file, dpi=200):\n",
    "        #camera = Camera(fig)\n",
    "        X_init = X.copy()\n",
    "        row_values = []\n",
    "        row_values.append(X_init[0].mean(-1))\n",
    "        pallete = sns.color_palette()\n",
    "        for i in range(12):\n",
    "            disp_ndarray(X_init[0], plot_values=True, ax=ax, title=f\"$X[{i+1}] = SelfAttention(X[{i}])$\", cmap=cmap);\n",
    "            for j in range(row_values[-1].shape[0]):\n",
    "                label=j if i == 0 else None\n",
    "                ax_row.plot(np.arange(len(row_values)), [r[j] for r in row_values], color=pallete[j], label=label)\n",
    "            if i == 0:\n",
    "                ax_row.legend(bbox_to_anchor=(1.05, 1), loc='upper left', title=\"$\\mathbb{E}[X[j]]$\")\n",
    "            zT = self_attention_block(X_init)\n",
    "            X_init =  zT + X_init\n",
    "            row_values.append(X_init[0].mean(-1))\n",
    "            X_init = (X_init - X_init.mean(-1, keepdims=True))/X_init.std(-1, keepdims=True)\n",
    "            #camera.snap()\n",
    "            moviewriter.grab_frame()\n",
    "        disp_ndarray((X_init)[0], plot_values=True, ax=ax, title=\"$X = SelfAttention(X)$\", cmap=cmap);\n",
    "        for j in range(row_values[-1].shape[0]):\n",
    "                ax_row.plot(np.arange(len(row_values)), [r[j] for r in row_values], color=pallete[j])\n",
    "        #camera.snap()\n",
    "        for j in range(5):\n",
    "            moviewriter.grab_frame()\n",
    "        #animation = camera.animate()\n",
    "#HTML(animation.to_html5_video())\n",
    "Video(video_file, width=200, height=200)"
   ]
  },
  {
   "cell_type": "code",
   "execution_count": null,
   "metadata": {},
   "outputs": [],
   "source": []
  }
 ],
 "metadata": {
  "kernelspec": {
   "display_name": "Python 3",
   "language": "python",
   "name": "python3"
  },
  "language_info": {
   "codemirror_mode": {
    "name": "ipython",
    "version": 3
   },
   "file_extension": ".py",
   "mimetype": "text/x-python",
   "name": "python",
   "nbconvert_exporter": "python",
   "pygments_lexer": "ipython3",
   "version": "3.7.3"
  }
 },
 "nbformat": 4,
 "nbformat_minor": 4
}
