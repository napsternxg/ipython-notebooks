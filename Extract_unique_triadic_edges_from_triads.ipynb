{
 "cells": [
  {
   "cell_type": "code",
   "execution_count": 1,
   "metadata": {},
   "outputs": [],
   "source": [
    "from itertools import combinations"
   ]
  },
  {
   "cell_type": "code",
   "execution_count": 4,
   "metadata": {},
   "outputs": [],
   "source": [
    "def get_directed_triads(undirected_triad):\n",
    "    # Get all triplets of edges\n",
    "    for candidate_edges in combinations(undirected_triad.items(), 3):\n",
    "        # Get edges between unique pair of nodes\n",
    "        unique_edges = set([tuple(sorted(k)) for k,v in candidate_edges])\n",
    "        # Only consider triad in which the tree edges use a unique pair of nodes\n",
    "        if len(unique_edges) == 3:\n",
    "            yield dict(candidate_edges)"
   ]
  },
  {
   "cell_type": "code",
   "execution_count": 5,
   "metadata": {},
   "outputs": [],
   "source": [
    "undirected_triad = {\n",
    "    ('lisa.jacobson@enron.com', 'phillip.allen@enron.com'):1, \n",
    "    ('lisa.jacobson@enron.com', 'richard.shapiro@enron.com'):1,\n",
    "    ('phillip.allen@enron.com', 'richard.shapiro@enron.com'):1,\n",
    "    ('richard.shapiro@enron.com', 'phillip.allen@enron.com'):-1\n",
    "}"
   ]
  },
  {
   "cell_type": "code",
   "execution_count": 6,
   "metadata": {},
   "outputs": [
    {
     "name": "stdout",
     "output_type": "stream",
     "text": [
      "{('lisa.jacobson@enron.com', 'phillip.allen@enron.com'): 1, ('lisa.jacobson@enron.com', 'richard.shapiro@enron.com'): 1, ('phillip.allen@enron.com', 'richard.shapiro@enron.com'): 1}\n",
      "{('lisa.jacobson@enron.com', 'phillip.allen@enron.com'): 1, ('lisa.jacobson@enron.com', 'richard.shapiro@enron.com'): 1, ('richard.shapiro@enron.com', 'phillip.allen@enron.com'): -1}\n"
     ]
    }
   ],
   "source": [
    "for directed_triad in get_directed_triads(undirected_triad):\n",
    "    print(directed_triad)"
   ]
  },
  {
   "cell_type": "code",
   "execution_count": 7,
   "metadata": {},
   "outputs": [
    {
     "data": {
      "text/plain": [
       "[{('lisa.jacobson@enron.com', 'phillip.allen@enron.com'): 1,\n",
       "  ('lisa.jacobson@enron.com', 'richard.shapiro@enron.com'): 1,\n",
       "  ('phillip.allen@enron.com', 'richard.shapiro@enron.com'): 1},\n",
       " {('lisa.jacobson@enron.com', 'phillip.allen@enron.com'): 1,\n",
       "  ('lisa.jacobson@enron.com', 'richard.shapiro@enron.com'): 1,\n",
       "  ('richard.shapiro@enron.com', 'phillip.allen@enron.com'): -1}]"
      ]
     },
     "execution_count": 7,
     "metadata": {},
     "output_type": "execute_result"
    }
   ],
   "source": [
    "all_directed_triads = list(get_directed_triads(undirected_triad))\n",
    "all_directed_triads"
   ]
  },
  {
   "cell_type": "code",
   "execution_count": null,
   "metadata": {},
   "outputs": [],
   "source": []
  }
 ],
 "metadata": {
  "kernelspec": {
   "display_name": "Python 3",
   "language": "python",
   "name": "python3"
  },
  "language_info": {
   "codemirror_mode": {
    "name": "ipython",
    "version": 3
   },
   "file_extension": ".py",
   "mimetype": "text/x-python",
   "name": "python",
   "nbconvert_exporter": "python",
   "pygments_lexer": "ipython3",
   "version": "3.6.7"
  }
 },
 "nbformat": 4,
 "nbformat_minor": 2
}
