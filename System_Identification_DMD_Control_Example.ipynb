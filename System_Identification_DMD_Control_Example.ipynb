{
  "nbformat": 4,
  "nbformat_minor": 0,
  "metadata": {
    "colab": {
      "name": "System Identification: DMD Control Example.ipynb",
      "provenance": [],
      "collapsed_sections": [],
      "authorship_tag": "ABX9TyN8VgB+xIcA3ktE0A3cb+5j",
      "include_colab_link": true
    },
    "kernelspec": {
      "name": "python3",
      "display_name": "Python 3"
    },
    "language_info": {
      "name": "python"
    }
  },
  "cells": [
    {
      "cell_type": "markdown",
      "metadata": {
        "id": "view-in-github",
        "colab_type": "text"
      },
      "source": [
        "<a href=\"https://colab.research.google.com/github/napsternxg/ipython-notebooks/blob/master/System_Identification_DMD_Control_Example.ipynb\" target=\"_parent\"><img src=\"https://colab.research.google.com/assets/colab-badge.svg\" alt=\"Open In Colab\"/></a>"
      ]
    },
    {
      "cell_type": "markdown",
      "source": [
        "# System Identification: DMD Control Example\n",
        "\n",
        "Source: https://www.youtube.com/watch?v=tuPRiA5kk3w"
      ],
      "metadata": {
        "id": "8g0iH9OWipBT"
      }
    },
    {
      "cell_type": "code",
      "execution_count": 1,
      "metadata": {
        "id": "srdQ15lXilyk"
      },
      "outputs": [],
      "source": [
        "import numpy as np\n",
        "import matplotlib.pyplot as plt"
      ]
    },
    {
      "cell_type": "code",
      "source": [
        "A = np.array([[0.9, 0], [0, 1.1]])\n",
        "B = np.array([[0], [1.]])\n",
        "K = np.array([[0, 0.3]])\n",
        "A, B, K"
      ],
      "metadata": {
        "colab": {
          "base_uri": "https://localhost:8080/"
        },
        "id": "cx_2uHAtitEi",
        "outputId": "c4259ea0-311b-4f38-ecbd-58680d4ad15c"
      },
      "execution_count": 2,
      "outputs": [
        {
          "output_type": "execute_result",
          "data": {
            "text/plain": [
              "(array([[0.9, 0. ],\n",
              "        [0. , 1.1]]), array([[0.],\n",
              "        [1.]]), array([[0. , 0.3]]))"
            ]
          },
          "metadata": {},
          "execution_count": 2
        }
      ]
    },
    {
      "cell_type": "code",
      "source": [
        "CL = A - B@K\n",
        "CL"
      ],
      "metadata": {
        "colab": {
          "base_uri": "https://localhost:8080/"
        },
        "id": "oLnYmQZqi0_c",
        "outputId": "ac254c88-9568-405d-db25-a1c1ea7358be"
      },
      "execution_count": 3,
      "outputs": [
        {
          "output_type": "execute_result",
          "data": {
            "text/plain": [
              "array([[0.9, 0. ],\n",
              "       [0. , 0.8]])"
            ]
          },
          "metadata": {},
          "execution_count": 3
        }
      ]
    },
    {
      "cell_type": "code",
      "source": [
        "x = np.array([[10], [10]])\n",
        "x.shape"
      ],
      "metadata": {
        "colab": {
          "base_uri": "https://localhost:8080/"
        },
        "id": "sAPdeb_nlfuE",
        "outputId": "812da790-caf6-4fd2-97dd-33e8f381460c"
      },
      "execution_count": 4,
      "outputs": [
        {
          "output_type": "execute_result",
          "data": {
            "text/plain": [
              "(2, 1)"
            ]
          },
          "metadata": {},
          "execution_count": 4
        }
      ]
    },
    {
      "cell_type": "code",
      "source": [
        "A@x-B@K@x"
      ],
      "metadata": {
        "colab": {
          "base_uri": "https://localhost:8080/"
        },
        "id": "8Wbr94b1lzwE",
        "outputId": "00dde266-49c6-4d99-c0bd-44c292b72902"
      },
      "execution_count": 5,
      "outputs": [
        {
          "output_type": "execute_result",
          "data": {
            "text/plain": [
              "array([[9.],\n",
              "       [8.]])"
            ]
          },
          "metadata": {},
          "execution_count": 5
        }
      ]
    },
    {
      "cell_type": "code",
      "source": [
        "X = []\n",
        "U = []\n",
        "x = np.array([[10], [10]])\n",
        "for i in range(10):\n",
        "  X.append(x)\n",
        "  u = -K@x + np.random.randn()\n",
        "  U.append(u)\n",
        "  x = A@x+B@u\n",
        "X.append(x)\n",
        "\n",
        "X = np.hstack(X)\n",
        "U = np.hstack(U)\n",
        "X.shape, U.shape, x.shape, u.shape"
      ],
      "metadata": {
        "colab": {
          "base_uri": "https://localhost:8080/"
        },
        "id": "MoUhT0fnjC8p",
        "outputId": "bb1b5e38-c0ce-45cc-be7b-78d1d1e7a1cc"
      },
      "execution_count": 6,
      "outputs": [
        {
          "output_type": "execute_result",
          "data": {
            "text/plain": [
              "((2, 11), (1, 10), (2, 1), (1, 1))"
            ]
          },
          "metadata": {},
          "execution_count": 6
        }
      ]
    },
    {
      "cell_type": "code",
      "source": [
        "plt.imshow(X.T)\n",
        "plt.xlabel(\"$X$\")\n",
        "plt.colorbar()"
      ],
      "metadata": {
        "colab": {
          "base_uri": "https://localhost:8080/",
          "height": 302
        },
        "id": "syePMPMPkuR_",
        "outputId": "a6424029-5650-401a-8797-7bac47201cf5"
      },
      "execution_count": 7,
      "outputs": [
        {
          "output_type": "execute_result",
          "data": {
            "text/plain": [
              "<matplotlib.colorbar.Colorbar at 0x7f1b22228b90>"
            ]
          },
          "metadata": {},
          "execution_count": 7
        },
        {
          "output_type": "display_data",
          "data": {
            "image/png": "[encoded data removed]",
            "text/plain": [
              "<Figure size 432x288 with 2 Axes>"
            ]
          },
          "metadata": {
            "needs_background": "light"
          }
        }
      ]
    },
    {
      "cell_type": "code",
      "source": [
        "plt.plot(X[0], label=\"$X[0]$\")\n",
        "plt.plot(X[1], label=\"$X[1]$\")\n",
        "plt.plot(U[0], label=\"$U$\")\n",
        "plt.legend()"
      ],
      "metadata": {
        "colab": {
          "base_uri": "https://localhost:8080/",
          "height": 282
        },
        "id": "aRsJyW7jkzVC",
        "outputId": "f8c10018-9588-4bec-c233-530824e13bcc"
      },
      "execution_count": 8,
      "outputs": [
        {
          "output_type": "execute_result",
          "data": {
            "text/plain": [
              "<matplotlib.legend.Legend at 0x7f1b1b8525d0>"
            ]
          },
          "metadata": {},
          "execution_count": 8
        },
        {
          "output_type": "display_data",
          "data": {
            "image/png": "[encoded data removed]",
            "text/plain": [
              "<Figure size 432x288 with 1 Axes>"
            ]
          },
          "metadata": {
            "needs_background": "light"
          }
        }
      ]
    },
    {
      "cell_type": "code",
      "source": [
        "X1 = X[:, :-1]\n",
        "X2 = X[:, 1:]"
      ],
      "metadata": {
        "id": "wGMPjhQonhFW"
      },
      "execution_count": 9,
      "outputs": []
    },
    {
      "cell_type": "code",
      "source": [
        "# Naive DMD\n",
        "Anaive = X2@np.linalg.pinv(X1)\n",
        "Anaive"
      ],
      "metadata": {
        "colab": {
          "base_uri": "https://localhost:8080/"
        },
        "id": "PZU5YhhZlDuw",
        "outputId": "15a15b76-69a2-44cf-92c5-b98952e64d65"
      },
      "execution_count": 10,
      "outputs": [
        {
          "output_type": "execute_result",
          "data": {
            "text/plain": [
              "array([[9.00000000e-01, 1.99665317e-16],\n",
              "       [1.78001441e-01, 7.11400863e-01]])"
            ]
          },
          "metadata": {},
          "execution_count": 10
        }
      ]
    },
    {
      "cell_type": "code",
      "source": [
        "# Correct DMD\n",
        "Upsilon = U\n",
        "Acorrect = (X2 - B@Upsilon)@np.linalg.pinv(X1)\n",
        "Acorrect"
      ],
      "metadata": {
        "colab": {
          "base_uri": "https://localhost:8080/"
        },
        "id": "a__58S8sm4J7",
        "outputId": "add1b3e5-2482-4065-f915-a2c99008a51f"
      },
      "execution_count": 11,
      "outputs": [
        {
          "output_type": "execute_result",
          "data": {
            "text/plain": [
              "array([[ 9.00000000e-01,  1.99665317e-16],\n",
              "       [-1.25647527e-15,  1.10000000e+00]])"
            ]
          },
          "metadata": {},
          "execution_count": 11
        }
      ]
    },
    {
      "cell_type": "code",
      "source": [
        "X2_naive = Anaive@X1\n",
        "X2_correct = Acorrect@X1 + B@Upsilon\n",
        "fig, ax = plt.subplots(1, 2, figsize=(10, 5))\n",
        "for i in range(X.shape[0]):\n",
        "  ax[i].plot(X2[i], linestyle=\"-\", label=\"true\")\n",
        "  dist = np.linalg.norm(X2_naive[i] - X2[i])\n",
        "  ax[i].plot(X2_naive[i], linestyle=\"--\", label=f\"naive ($\\Delta={dist:.3f}$)\")\n",
        "  dist = np.linalg.norm(X2_correct[i] - X2[i])\n",
        "  ax[i].plot(X2_correct[i], linestyle=\"-.\", label=f\"correct ($\\Delta={dist:.3f}$)\")\n",
        "  ax[i].legend()\n",
        "  ax[i].set_ylabel(f\"$X[{i}]$\")"
      ],
      "metadata": {
        "colab": {
          "base_uri": "https://localhost:8080/",
          "height": 320
        },
        "id": "fsWsSwoMs3Ke",
        "outputId": "571c8df2-ab72-4d56-828d-0e54425324c5"
      },
      "execution_count": 12,
      "outputs": [
        {
          "output_type": "display_data",
          "data": {
            "image/png": "[encoded data removed]",
            "text/plain": [
              "<Figure size 720x360 with 2 Axes>"
            ]
          },
          "metadata": {
            "needs_background": "light"
          }
        }
      ]
    },
    {
      "cell_type": "code",
      "source": [
        ""
      ],
      "metadata": {
        "id": "wn_ShHz9n1yl"
      },
      "execution_count": 12,
      "outputs": []
    }
  ]
}